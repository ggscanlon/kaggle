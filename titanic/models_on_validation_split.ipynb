{
 "cells": [
  {
   "cell_type": "code",
   "execution_count": 29,
   "metadata": {},
   "outputs": [],
   "source": [
    "import numpy as np\n",
    "import pandas as pd\n",
    "import matplotlib.pyplot as plt\n",
    "import graphviz\n",
    "from sklearn.model_selection import train_test_split\n",
    "from sklearn import preprocessing\n",
    "from sklearn.linear_model import LogisticRegression\n",
    "from sklearn.ensemble import RandomForestClassifier"
   ]
  },
  {
   "cell_type": "code",
   "execution_count": 71,
   "metadata": {},
   "outputs": [],
   "source": [
    "#load processed, X, y, test\n",
    "file_loc = '/Users/gregscanlon/Documents/Kaggle/titanic/'\n",
    "\n",
    "X = pd.read_excel(file_loc+'X_processed.xlsx')\n",
    "y = pd.read_excel(file_loc+'y_processed.xlsx')\n",
    "test = pd.read_excel(file_loc+'gs_test_processed.xlsx')\n",
    "\n",
    "the_label = 'PassengerId'\n",
    "y.rename(columns={'Unnamed: 0':the_label},inplace=True)\n",
    "\n",
    "X.set_index(the_label,inplace=True)\n",
    "y.set_index(the_label,inplace=True)\n",
    "test.set_index(the_label,inplace=True)"
   ]
  },
  {
   "cell_type": "code",
   "execution_count": 72,
   "metadata": {},
   "outputs": [],
   "source": [
    "#scale data manually - not to gaussian\n",
    "#adj_fare, Age to 0-1 scale\n",
    "X.loc[:,'fare_norm'] = X['adj_fare'].divide(X['adj_fare'].max())\n",
    "X.loc[:,'age_norm'] = X['Age'].divide(X['Age'].max())\n",
    "\n",
    "X.drop(['adj_fare','Age'],axis=1,inplace=True)\n",
    "\n",
    "test.loc[:,'fare_norm'] = test['adj_fare'].divide(test['adj_fare'].max())\n",
    "test.loc[:,'age_norm'] = test['Age'].divide(test['Age'].max())\n",
    "\n",
    "test.drop(['adj_fare','Age'],axis=1,inplace=True)"
   ]
  },
  {
   "cell_type": "code",
   "execution_count": 73,
   "metadata": {},
   "outputs": [
    {
     "data": {
      "text/plain": [
       "(True, 881, 418)"
      ]
     },
     "execution_count": 73,
     "metadata": {},
     "output_type": "execute_result"
    }
   ],
   "source": [
    "X.shape[1] == test.shape[1], len(X), len(test)"
   ]
  },
  {
   "cell_type": "code",
   "execution_count": 74,
   "metadata": {},
   "outputs": [
    {
     "data": {
      "text/plain": [
       "(660, 221)"
      ]
     },
     "execution_count": 74,
     "metadata": {},
     "output_type": "execute_result"
    }
   ],
   "source": [
    "#validation set\n",
    "X, X_test, y, y_test = train_test_split(X, y, random_state=42)\n",
    "len(X), len(X_test)"
   ]
  },
  {
   "cell_type": "code",
   "execution_count": 75,
   "metadata": {},
   "outputs": [],
   "source": [
    "#scale data using sklearn\n",
    "scaler = preprocessing.StandardScaler().fit(X)\n",
    "X_scaled = scaler.transform(X)\n",
    "X_test_scaled = scaler.transform(X_test)"
   ]
  },
  {
   "cell_type": "code",
   "execution_count": 76,
   "metadata": {},
   "outputs": [
    {
     "name": "stdout",
     "output_type": "stream",
     "text": [
      "train score:  0.9893939393939394\n",
      "test score:  0.9864253393665159\n"
     ]
    },
    {
     "name": "stderr",
     "output_type": "stream",
     "text": [
      "/Users/gregscanlon/opt/anaconda3/lib/python3.7/site-packages/sklearn/linear_model/logistic.py:432: FutureWarning: Default solver will be changed to 'lbfgs' in 0.22. Specify a solver to silence this warning.\n",
      "  FutureWarning)\n"
     ]
    }
   ],
   "source": [
    "#logistic regression\n",
    "clf = LogisticRegression(random_state=0).fit(X, y['Survived'])\n",
    "\n",
    "print('train score: ',clf.score(X, y['Survived']))\n",
    "\n",
    "print('test score: ',clf.score(X_test, y_test['Survived']))"
   ]
  },
  {
   "cell_type": "code",
   "execution_count": 77,
   "metadata": {},
   "outputs": [
    {
     "name": "stdout",
     "output_type": "stream",
     "text": [
      "Males Only - Log Regression\n",
      "PClass:  1\n",
      "train score:  0.9885057471264368  |test score:  0.9117647058823529\n",
      "PClass:  2\n",
      "train score:  0.9880952380952381  |test score:  1.0\n",
      "PClass:  3\n"
     ]
    },
    {
     "name": "stderr",
     "output_type": "stream",
     "text": [
      "/Users/gregscanlon/opt/anaconda3/lib/python3.7/site-packages/sklearn/linear_model/logistic.py:947: ConvergenceWarning: lbfgs failed to converge. Increase the number of iterations.\n",
      "  \"of iterations.\", ConvergenceWarning)\n",
      "/Users/gregscanlon/opt/anaconda3/lib/python3.7/site-packages/sklearn/linear_model/logistic.py:947: ConvergenceWarning: lbfgs failed to converge. Increase the number of iterations.\n",
      "  \"of iterations.\", ConvergenceWarning)\n"
     ]
    },
    {
     "name": "stdout",
     "output_type": "stream",
     "text": [
      "train score:  0.9849624060150376  |test score:  0.987012987012987\n",
      ".....\n",
      "Females Only - Log Regression\n",
      "PClass:  1\n",
      "train score:  0.9838709677419355  |test score:  0.9333333333333333\n",
      "PClass:  2\n",
      "train score:  0.9473684210526315  |test score:  0.9473684210526315\n",
      "PClass:  3\n",
      "train score:  1.0  |test score:  0.918918918918919\n"
     ]
    },
    {
     "name": "stderr",
     "output_type": "stream",
     "text": [
      "/Users/gregscanlon/opt/anaconda3/lib/python3.7/site-packages/sklearn/linear_model/logistic.py:947: ConvergenceWarning: lbfgs failed to converge. Increase the number of iterations.\n",
      "  \"of iterations.\", ConvergenceWarning)\n",
      "/Users/gregscanlon/opt/anaconda3/lib/python3.7/site-packages/sklearn/linear_model/logistic.py:947: ConvergenceWarning: lbfgs failed to converge. Increase the number of iterations.\n",
      "  \"of iterations.\", ConvergenceWarning)\n"
     ]
    }
   ],
   "source": [
    "#logistic regression on males only\n",
    "to_drop = ['Age','name_len','tix_group']\n",
    "\n",
    "\n",
    "\n",
    "dt_dict = {}\n",
    "\n",
    "\n",
    "\n",
    "print('Males Only - Log Regression')\n",
    "X_male = X[X.m_f==0]\n",
    "y_male = y.loc[X_male.index]\n",
    "X_test_male = X_test[X_test.m_f==0]\n",
    "y_test_male = y_test.loc[X_test_male.index]\n",
    "\n",
    "for pclass in [1,2,3]:\n",
    "    print('PClass: ',pclass)\n",
    "\n",
    "    X_experiment = X_male[X_male.Pclass==pclass]\n",
    "    y_experiment = y_male.loc[X_experiment.index]\n",
    "    X_test_exp = X_test_male[X_test_male.Pclass==pclass]\n",
    "    y_test_exp = y_test_male.loc[X_test_exp.index]\n",
    "\n",
    "    clf = LogisticRegression(random_state=0,solver='lbfgs').fit(X_experiment, y_experiment['Survived'])\n",
    "\n",
    "    dt_dict[pclass] = clf\n",
    "    print('train score: ',clf.score(X_experiment, y_experiment['Survived']),' |test score: ',clf.score(X_test_exp, y_test_exp['Survived']))\n",
    "\n",
    "    #print('test score: ',clf.score(X_test_exp, y_test_exp['Survived']))\n",
    "    \n",
    "print('.....')\n",
    "print('Females Only - Log Regression')\n",
    "X_male = X[X.m_f==1]\n",
    "y_male = y.loc[X_male.index]\n",
    "X_test_male = X_test[X_test.m_f==1]\n",
    "y_test_male = y_test.loc[X_test_male.index]\n",
    "\n",
    "for pclass in [1,2,3]:\n",
    "    print('PClass: ',pclass)\n",
    "\n",
    "    X_experiment = X_male[X_male.Pclass==pclass]\n",
    "    y_experiment = y_male.loc[X_experiment.index]\n",
    "    X_test_exp = X_test_male[X_test_male.Pclass==pclass]\n",
    "    y_test_exp = y_test_male.loc[X_test_exp.index]\n",
    "\n",
    "    clf = LogisticRegression(random_state=0,solver='lbfgs').fit(X_experiment, y_experiment['Survived'])\n",
    "\n",
    "    dt_dict[pclass] = clf\n",
    "    print('train score: ',clf.score(X_experiment, y_experiment['Survived']),' |test score: ',clf.score(X_test_exp, y_test_exp['Survived']))\n",
    "\n",
    "    #print('test score: ',clf.score(X_test_exp, y_test_exp['Survived']))\n",
    "\n"
   ]
  },
  {
   "cell_type": "code",
   "execution_count": null,
   "metadata": {},
   "outputs": [],
   "source": [
    "#SVM - LINEAR\n",
    "from sklearn import svm\n",
    "clf = svm.SVC(kernel='linear').fit(X, y['Survived'])\n",
    "\n",
    "print('train score: ',clf.score(X, y['Survived']))\n",
    "\n",
    "print('test score: ',clf.score(X_test, y_test['Survived']))"
   ]
  },
  {
   "cell_type": "code",
   "execution_count": null,
   "metadata": {},
   "outputs": [],
   "source": [
    "#SVM - LINEAR\n",
    "from sklearn import svm\n",
    "clf = svm.SVC(kernel='linear').fit(X_scaled, y['Survived'])\n",
    "\n",
    "print('train score: ',clf.score(X_scaled, y['Survived']))\n",
    "\n",
    "print('test score: ',clf.score(X_test_scaled, y_test['Survived']))"
   ]
  },
  {
   "cell_type": "code",
   "execution_count": 18,
   "metadata": {},
   "outputs": [
    {
     "name": "stdout",
     "output_type": "stream",
     "text": [
      "train score:  0.8592814371257484\n",
      "test score:  0.820627802690583\n"
     ]
    }
   ],
   "source": [
    "#SVM - RBF\n",
    "from sklearn import svm\n",
    "clf = svm.SVC(kernel='rbf').fit(X_scaled, y['Survived'])\n",
    "\n",
    "print('train score: ',clf.score(X_scaled, y['Survived']))\n",
    "\n",
    "print('test score: ',clf.score(X_test_scaled, y_test['Survived']))"
   ]
  },
  {
   "cell_type": "code",
   "execution_count": 36,
   "metadata": {},
   "outputs": [
    {
     "name": "stdout",
     "output_type": "stream",
     "text": [
      "Males Only - KNN\n",
      "PClass:  1\n",
      "k =  10  /train score:  0.7011494252873564  /test score:  0.6176470588235294\n",
      "k =  12  /train score:  0.7126436781609196  /test score:  0.6176470588235294\n",
      "k =  14  /train score:  0.6896551724137931  /test score:  0.6176470588235294\n",
      "k =  16  /train score:  0.6896551724137931  /test score:  0.5882352941176471\n",
      "k =  18  /train score:  0.6781609195402298  /test score:  0.6176470588235294\n",
      "PClass:  2\n",
      "k =  10  /train score:  0.8095238095238095  /test score:  0.9583333333333334\n",
      "k =  12  /train score:  0.8095238095238095  /test score:  0.9583333333333334\n",
      "k =  14  /train score:  0.8095238095238095  /test score:  0.9583333333333334\n",
      "k =  16  /train score:  0.8095238095238095  /test score:  0.9583333333333334\n",
      "k =  18  /train score:  0.8095238095238095  /test score:  0.9583333333333334\n",
      "PClass:  3\n",
      "k =  10  /train score:  0.8571428571428571  /test score:  0.8831168831168831\n",
      "k =  12  /train score:  0.8571428571428571  /test score:  0.8831168831168831\n",
      "k =  14  /train score:  0.8571428571428571  /test score:  0.8831168831168831\n",
      "k =  16  /train score:  0.8571428571428571  /test score:  0.8831168831168831\n",
      "k =  18  /train score:  0.8571428571428571  /test score:  0.8831168831168831\n",
      ".......\n",
      "Females Only - KNN\n",
      "PClass:  1\n",
      "k =  10  /train score:  0.9838709677419355  /test score:  0.9333333333333333\n",
      "k =  12  /train score:  0.9838709677419355  /test score:  0.9333333333333333\n",
      "k =  14  /train score:  0.9838709677419355  /test score:  0.9333333333333333\n",
      "k =  16  /train score:  0.9838709677419355  /test score:  0.9333333333333333\n",
      "k =  18  /train score:  0.9838709677419355  /test score:  0.9333333333333333\n",
      "PClass:  2\n",
      "k =  10  /train score:  0.9122807017543859  /test score:  0.9473684210526315\n",
      "k =  12  /train score:  0.9122807017543859  /test score:  0.9473684210526315\n",
      "k =  14  /train score:  0.9122807017543859  /test score:  0.9473684210526315\n",
      "k =  16  /train score:  0.9122807017543859  /test score:  0.9473684210526315\n",
      "k =  18  /train score:  0.9122807017543859  /test score:  0.9473684210526315\n",
      "PClass:  3\n",
      "k =  10  /train score:  0.7211538461538461  /test score:  0.5405405405405406\n",
      "k =  12  /train score:  0.6346153846153846  /test score:  0.5675675675675675\n",
      "k =  14  /train score:  0.6057692307692307  /test score:  0.5675675675675675\n",
      "k =  16  /train score:  0.5769230769230769  /test score:  0.5675675675675675\n",
      "k =  18  /train score:  0.5961538461538461  /test score:  0.4594594594594595\n"
     ]
    }
   ],
   "source": [
    "from sklearn.neighbors import KNeighborsClassifier\n",
    "\n",
    "X_male = X[X.m_f==0]\n",
    "y_male = y.loc[X_male.index]\n",
    "X_test_male = X_test[X_test.m_f==0]\n",
    "y_test_male = y_test.loc[X_test_male.index]\n",
    "\n",
    "k_neigh_dict = {}\n",
    "\n",
    "print('Males Only - KNN')\n",
    "for pclass in [1,2,3]:\n",
    "    print('PClass: ',pclass)\n",
    "    for i in range(10,20,2):\n",
    "        X_experiment = X_male[X_male.Pclass==pclass]\n",
    "        y_experiment = y_male.loc[X_experiment.index]\n",
    "        X_test_exp = X_test_male[X_test_male.Pclass==pclass]\n",
    "        y_test_exp = y_test_male.loc[X_test_exp.index]\n",
    "\n",
    "        clf = KNeighborsClassifier(n_neighbors=i).fit(X_experiment, y_experiment['Survived'])\n",
    "        \n",
    "        k_neigh_dict[pclass] = clf\n",
    "        print('k = ',i,' /train score: ',clf.score(X_experiment, y_experiment['Survived']),' /test score: ',clf.score(X_test_exp, y_test_exp['Survived']))\n",
    "\n",
    "        #print('k = ',i,' /test score: ',clf.score(X_test_exp, y_test_exp['Survived']))\n",
    "    \n",
    "    from sklearn.neighbors import KNeighborsClassifier\n",
    "print('.......')\n",
    "X_female = X[X.m_f==1]\n",
    "y_female = y.loc[X_female.index]\n",
    "X_test_female = X_test[X_test.m_f==1]\n",
    "y_test_female = y_test.loc[X_test_female.index]\n",
    "\n",
    "k_neigh_dict = {}\n",
    "\n",
    "print('Females Only - KNN')\n",
    "for pclass in [1,2,3]:\n",
    "    print('PClass: ',pclass)\n",
    "    for i in range(10,20,2):\n",
    "        X_experiment = X_female[X_female.Pclass==pclass]\n",
    "        y_experiment = y_female.loc[X_experiment.index]\n",
    "        X_test_exp = X_test_female[X_test_female.Pclass==pclass]\n",
    "        y_test_exp = y_test_female.loc[X_test_exp.index]\n",
    "\n",
    "        clf = KNeighborsClassifier(n_neighbors=i).fit(X_experiment, y_experiment['Survived'])\n",
    "        \n",
    "        k_neigh_dict[pclass] = clf\n",
    "        print('k = ',i,' /train score: ',clf.score(X_experiment, y_experiment['Survived']),' /test score: ',clf.score(X_test_exp, y_test_exp['Survived']))\n",
    "\n",
    "        #print('k = ',i,' /test score: ',clf.score(X_test_exp, y_test_exp['Survived']))\n",
    "    "
   ]
  },
  {
   "cell_type": "code",
   "execution_count": 78,
   "metadata": {},
   "outputs": [
    {
     "name": "stdout",
     "output_type": "stream",
     "text": [
      "Males Only - DT\n",
      "PClass:  1\n",
      "k =  10  /train score:  1.0  /test score:  1.0\n",
      "k =  20  /train score:  1.0  /test score:  1.0\n",
      "k =  50  /train score:  1.0  /test score:  1.0\n",
      "k =  100  /train score:  1.0  /test score:  1.0\n",
      "k =  500  /train score:  1.0  /test score:  1.0\n",
      "PClass:  2\n",
      "k =  10  /train score:  1.0  /test score:  1.0\n",
      "k =  20  /train score:  1.0  /test score:  1.0\n",
      "k =  50  /train score:  1.0  /test score:  1.0\n",
      "k =  100  /train score:  1.0  /test score:  1.0\n",
      "k =  500  /train score:  1.0  /test score:  1.0\n",
      "PClass:  3\n",
      "k =  10  /train score:  1.0  /test score:  0.974025974025974\n",
      "k =  20  /train score:  1.0  /test score:  0.974025974025974\n",
      "k =  50  /train score:  1.0  /test score:  0.974025974025974\n",
      "k =  100  /train score:  1.0  /test score:  0.974025974025974\n",
      "k =  500  /train score:  1.0  /test score:  0.974025974025974\n",
      ".....\n",
      "Females Only - DT\n",
      "PClass:  1\n",
      "k =  10  /train score:  1.0  /test score:  0.9666666666666667\n",
      "k =  20  /train score:  1.0  /test score:  0.9666666666666667\n",
      "k =  50  /train score:  1.0  /test score:  0.9666666666666667\n",
      "k =  100  /train score:  1.0  /test score:  0.9666666666666667\n",
      "k =  500  /train score:  1.0  /test score:  0.9666666666666667\n",
      "PClass:  2\n",
      "k =  10  /train score:  1.0  /test score:  1.0\n",
      "k =  20  /train score:  1.0  /test score:  1.0\n",
      "k =  50  /train score:  1.0  /test score:  1.0\n",
      "k =  100  /train score:  1.0  /test score:  1.0\n",
      "k =  500  /train score:  1.0  /test score:  1.0\n",
      "PClass:  3\n",
      "k =  10  /train score:  1.0  /test score:  1.0\n",
      "k =  20  /train score:  1.0  /test score:  1.0\n",
      "k =  50  /train score:  1.0  /test score:  1.0\n",
      "k =  100  /train score:  1.0  /test score:  1.0\n",
      "k =  500  /train score:  1.0  /test score:  1.0\n"
     ]
    }
   ],
   "source": [
    "#Decision Tree on males only\n",
    "from sklearn import tree\n",
    "to_drop = ['Age','name_len','tix_group']\n",
    "\n",
    "X_male = X[X.m_f==0]\n",
    "y_male = y.loc[X_male.index]\n",
    "X_test_male = X_test[X_test.m_f==0]\n",
    "y_test_male = y_test.loc[X_test_male.index]\n",
    "\n",
    "dt_dict = {}\n",
    "\n",
    "print('Males Only - DT')\n",
    "for pclass in [1,2,3]:\n",
    "    print('PClass: ',pclass)\n",
    "    for i in [10,20,50,100,500]:\n",
    "        X_experiment = X_male[X_male.Pclass==pclass]\n",
    "        y_experiment = y_male.loc[X_experiment.index]\n",
    "        X_test_exp = X_test_male[X_test_male.Pclass==pclass]\n",
    "        y_test_exp = y_test_male.loc[X_test_exp.index]\n",
    "\n",
    "        clf = tree.DecisionTreeClassifier().fit(X_experiment, y_experiment['Survived'])\n",
    "        \n",
    "        dt_dict[pclass] = clf\n",
    "        print('k = ',i,' /train score: ',clf.score(X_experiment, y_experiment['Survived']),' /test score: ',clf.score(X_test_exp, y_test_exp['Survived']))\n",
    "\n",
    "        #print('k = ',i,' /test score: ',clf.score(X_test_exp, y_test_exp['Survived']))\n",
    "\n",
    "\n",
    "print('.....')\n",
    "#Decision Tree on females only\n",
    "\n",
    "to_drop = ['Age','name_len','tix_group']\n",
    "\n",
    "X_male = X[X.m_f==1]\n",
    "y_male = y.loc[X_male.index]\n",
    "X_test_male = X_test[X_test.m_f==1]\n",
    "y_test_male = y_test.loc[X_test_male.index]\n",
    "\n",
    "dt_dict = {}\n",
    "\n",
    "print('Females Only - DT')\n",
    "for pclass in [1,2,3]:\n",
    "    print('PClass: ',pclass)\n",
    "    for i in [10,20,50,100,500]:\n",
    "        X_experiment = X_male[X_male.Pclass==pclass]\n",
    "        y_experiment = y_male.loc[X_experiment.index]\n",
    "        X_test_exp = X_test_male[X_test_male.Pclass==pclass]\n",
    "        y_test_exp = y_test_male.loc[X_test_exp.index]\n",
    "\n",
    "        clf = tree.DecisionTreeClassifier().fit(X_experiment, y_experiment['Survived'])\n",
    "        \n",
    "        dt_dict[pclass] = clf\n",
    "        print('k = ',i,' /train score: ',clf.score(X_experiment, y_experiment['Survived']),' /test score: ',clf.score(X_test_exp, y_test_exp['Survived']))\n",
    "\n",
    "        #print('k = ',i,' /test score: ',clf.score(X_test_exp, y_test_exp['Survived']))\n",
    "    "
   ]
  },
  {
   "cell_type": "code",
   "execution_count": 79,
   "metadata": {},
   "outputs": [
    {
     "data": {
      "image/svg+xml": [
       "<?xml version=\"1.0\" encoding=\"UTF-8\" standalone=\"no\"?>\n",
       "<!DOCTYPE svg PUBLIC \"-//W3C//DTD SVG 1.1//EN\"\n",
       " \"http://www.w3.org/Graphics/SVG/1.1/DTD/svg11.dtd\">\n",
       "<!-- Generated by graphviz version 2.40.1 (20161225.0304)\n",
       " -->\n",
       "<!-- Title: Tree Pages: 1 -->\n",
       "<svg width=\"289pt\" height=\"300pt\"\n",
       " viewBox=\"0.00 0.00 289.45 300.00\" xmlns=\"http://www.w3.org/2000/svg\" xmlns:xlink=\"http://www.w3.org/1999/xlink\">\n",
       "<g id=\"graph0\" class=\"graph\" transform=\"scale(1 1) rotate(0) translate(4 296)\">\n",
       "<title>Tree</title>\n",
       "<polygon fill=\"#ffffff\" stroke=\"transparent\" points=\"-4,4 -4,-296 285.4478,-296 285.4478,4 -4,4\"/>\n",
       "<!-- 0 -->\n",
       "<g id=\"node1\" class=\"node\">\n",
       "<title>0</title>\n",
       "<path fill=\"#3c9fe5\" stroke=\"#000000\" d=\"M194.4567,-292C194.4567,-292 33.8842,-292 33.8842,-292 27.8842,-292 21.8842,-286 21.8842,-280 21.8842,-280 21.8842,-226 21.8842,-226 21.8842,-220 27.8842,-214 33.8842,-214 33.8842,-214 194.4567,-214 194.4567,-214 200.4567,-214 206.4567,-220 206.4567,-226 206.4567,-226 206.4567,-280 206.4567,-280 206.4567,-286 200.4567,-292 194.4567,-292\"/>\n",
       "<text text-anchor=\"start\" x=\"29.7773\" y=\"-276.8\" font-family=\"Helvetica,sans-Serif\" font-size=\"14.00\" fill=\"#000000\">last_rg_cat_last_b_rg ≤ 0.5</text>\n",
       "<text text-anchor=\"start\" x=\"77.7793\" y=\"-262.8\" font-family=\"Helvetica,sans-Serif\" font-size=\"14.00\" fill=\"#000000\">gini = 0.032</text>\n",
       "<text text-anchor=\"start\" x=\"72.3413\" y=\"-248.8\" font-family=\"Helvetica,sans-Serif\" font-size=\"14.00\" fill=\"#000000\">samples = 62</text>\n",
       "<text text-anchor=\"start\" x=\"70\" y=\"-234.8\" font-family=\"Helvetica,sans-Serif\" font-size=\"14.00\" fill=\"#000000\">value = [1, 61]</text>\n",
       "<text text-anchor=\"start\" x=\"73.5103\" y=\"-220.8\" font-family=\"Helvetica,sans-Serif\" font-size=\"14.00\" fill=\"#000000\">class = Lived</text>\n",
       "</g>\n",
       "<!-- 1 -->\n",
       "<g id=\"node2\" class=\"node\">\n",
       "<title>1</title>\n",
       "<path fill=\"#399de5\" stroke=\"#000000\" d=\"M92.5118,-171C92.5118,-171 11.829,-171 11.829,-171 5.829,-171 -.171,-165 -.171,-159 -.171,-159 -.171,-119 -.171,-119 -.171,-113 5.829,-107 11.829,-107 11.829,-107 92.5118,-107 92.5118,-107 98.5118,-107 104.5118,-113 104.5118,-119 104.5118,-119 104.5118,-159 104.5118,-159 104.5118,-165 98.5118,-171 92.5118,-171\"/>\n",
       "<text text-anchor=\"start\" x=\"23.5654\" y=\"-155.8\" font-family=\"Helvetica,sans-Serif\" font-size=\"14.00\" fill=\"#000000\">gini = 0.0</text>\n",
       "<text text-anchor=\"start\" x=\"10.3413\" y=\"-141.8\" font-family=\"Helvetica,sans-Serif\" font-size=\"14.00\" fill=\"#000000\">samples = 56</text>\n",
       "<text text-anchor=\"start\" x=\"8\" y=\"-127.8\" font-family=\"Helvetica,sans-Serif\" font-size=\"14.00\" fill=\"#000000\">value = [0, 56]</text>\n",
       "<text text-anchor=\"start\" x=\"11.5103\" y=\"-113.8\" font-family=\"Helvetica,sans-Serif\" font-size=\"14.00\" fill=\"#000000\">class = Lived</text>\n",
       "</g>\n",
       "<!-- 0&#45;&gt;1 -->\n",
       "<g id=\"edge1\" class=\"edge\">\n",
       "<title>0&#45;&gt;1</title>\n",
       "<path fill=\"none\" stroke=\"#000000\" d=\"M92.8335,-213.7677C86.9225,-202.8991 80.4907,-191.0729 74.5235,-180.1009\"/>\n",
       "<polygon fill=\"#000000\" stroke=\"#000000\" points=\"77.4945,-178.2378 69.642,-171.1252 71.3451,-181.5823 77.4945,-178.2378\"/>\n",
       "<text text-anchor=\"middle\" x=\"62.5584\" y=\"-190.9006\" font-family=\"Helvetica,sans-Serif\" font-size=\"14.00\" fill=\"#000000\">True</text>\n",
       "</g>\n",
       "<!-- 2 -->\n",
       "<g id=\"node3\" class=\"node\">\n",
       "<title>2</title>\n",
       "<path fill=\"#61b1ea\" stroke=\"#000000\" d=\"M218.1891,-178C218.1891,-178 134.1518,-178 134.1518,-178 128.1518,-178 122.1518,-172 122.1518,-166 122.1518,-166 122.1518,-112 122.1518,-112 122.1518,-106 128.1518,-100 134.1518,-100 134.1518,-100 218.1891,-100 218.1891,-100 224.1891,-100 230.1891,-106 230.1891,-112 230.1891,-112 230.1891,-166 230.1891,-166 230.1891,-172 224.1891,-178 218.1891,-178\"/>\n",
       "<text text-anchor=\"start\" x=\"129.9116\" y=\"-162.8\" font-family=\"Helvetica,sans-Serif\" font-size=\"14.00\" fill=\"#000000\">tix_group ≤ 3.5</text>\n",
       "<text text-anchor=\"start\" x=\"139.7793\" y=\"-148.8\" font-family=\"Helvetica,sans-Serif\" font-size=\"14.00\" fill=\"#000000\">gini = 0.278</text>\n",
       "<text text-anchor=\"start\" x=\"138.2344\" y=\"-134.8\" font-family=\"Helvetica,sans-Serif\" font-size=\"14.00\" fill=\"#000000\">samples = 6</text>\n",
       "<text text-anchor=\"start\" x=\"135.8931\" y=\"-120.8\" font-family=\"Helvetica,sans-Serif\" font-size=\"14.00\" fill=\"#000000\">value = [1, 5]</text>\n",
       "<text text-anchor=\"start\" x=\"135.5103\" y=\"-106.8\" font-family=\"Helvetica,sans-Serif\" font-size=\"14.00\" fill=\"#000000\">class = Lived</text>\n",
       "</g>\n",
       "<!-- 0&#45;&gt;2 -->\n",
       "<g id=\"edge2\" class=\"edge\">\n",
       "<title>0&#45;&gt;2</title>\n",
       "<path fill=\"none\" stroke=\"#000000\" d=\"M135.5073,-213.7677C140.1348,-205.259 145.0816,-196.1634 149.8747,-187.3502\"/>\n",
       "<polygon fill=\"#000000\" stroke=\"#000000\" points=\"153.0911,-188.7617 154.7942,-178.3046 146.9417,-185.4173 153.0911,-188.7617\"/>\n",
       "<text text-anchor=\"middle\" x=\"161.8779\" y=\"-198.0801\" font-family=\"Helvetica,sans-Serif\" font-size=\"14.00\" fill=\"#000000\">False</text>\n",
       "</g>\n",
       "<!-- 3 -->\n",
       "<g id=\"node4\" class=\"node\">\n",
       "<title>3</title>\n",
       "<path fill=\"#399de5\" stroke=\"#000000\" d=\"M154.9913,-64C154.9913,-64 81.3496,-64 81.3496,-64 75.3496,-64 69.3496,-58 69.3496,-52 69.3496,-52 69.3496,-12 69.3496,-12 69.3496,-6 75.3496,0 81.3496,0 81.3496,0 154.9913,0 154.9913,0 160.9913,0 166.9913,-6 166.9913,-12 166.9913,-12 166.9913,-52 166.9913,-52 166.9913,-58 160.9913,-64 154.9913,-64\"/>\n",
       "<text text-anchor=\"start\" x=\"89.5654\" y=\"-48.8\" font-family=\"Helvetica,sans-Serif\" font-size=\"14.00\" fill=\"#000000\">gini = 0.0</text>\n",
       "<text text-anchor=\"start\" x=\"80.2344\" y=\"-34.8\" font-family=\"Helvetica,sans-Serif\" font-size=\"14.00\" fill=\"#000000\">samples = 5</text>\n",
       "<text text-anchor=\"start\" x=\"77.8931\" y=\"-20.8\" font-family=\"Helvetica,sans-Serif\" font-size=\"14.00\" fill=\"#000000\">value = [0, 5]</text>\n",
       "<text text-anchor=\"start\" x=\"77.5103\" y=\"-6.8\" font-family=\"Helvetica,sans-Serif\" font-size=\"14.00\" fill=\"#000000\">class = Lived</text>\n",
       "</g>\n",
       "<!-- 2&#45;&gt;3 -->\n",
       "<g id=\"edge3\" class=\"edge\">\n",
       "<title>2&#45;&gt;3</title>\n",
       "<path fill=\"none\" stroke=\"#000000\" d=\"M154.9027,-99.7647C150.1996,-91.0884 145.2039,-81.8721 140.4614,-73.123\"/>\n",
       "<polygon fill=\"#000000\" stroke=\"#000000\" points=\"143.4763,-71.3404 135.6338,-64.2169 137.3223,-74.6763 143.4763,-71.3404\"/>\n",
       "</g>\n",
       "<!-- 4 -->\n",
       "<g id=\"node5\" class=\"node\">\n",
       "<title>4</title>\n",
       "<path fill=\"#e58139\" stroke=\"#000000\" d=\"M269.2261,-64C269.2261,-64 197.1147,-64 197.1147,-64 191.1147,-64 185.1147,-58 185.1147,-52 185.1147,-52 185.1147,-12 185.1147,-12 185.1147,-6 191.1147,0 197.1147,0 197.1147,0 269.2261,0 269.2261,0 275.2261,0 281.2261,-6 281.2261,-12 281.2261,-12 281.2261,-52 281.2261,-52 281.2261,-58 275.2261,-64 269.2261,-64\"/>\n",
       "<text text-anchor=\"start\" x=\"204.5654\" y=\"-48.8\" font-family=\"Helvetica,sans-Serif\" font-size=\"14.00\" fill=\"#000000\">gini = 0.0</text>\n",
       "<text text-anchor=\"start\" x=\"195.2344\" y=\"-34.8\" font-family=\"Helvetica,sans-Serif\" font-size=\"14.00\" fill=\"#000000\">samples = 1</text>\n",
       "<text text-anchor=\"start\" x=\"192.8931\" y=\"-20.8\" font-family=\"Helvetica,sans-Serif\" font-size=\"14.00\" fill=\"#000000\">value = [1, 0]</text>\n",
       "<text text-anchor=\"start\" x=\"194.8481\" y=\"-6.8\" font-family=\"Helvetica,sans-Serif\" font-size=\"14.00\" fill=\"#000000\">class = Died</text>\n",
       "</g>\n",
       "<!-- 2&#45;&gt;4 -->\n",
       "<g id=\"edge4\" class=\"edge\">\n",
       "<title>2&#45;&gt;4</title>\n",
       "<path fill=\"none\" stroke=\"#000000\" d=\"M197.0714,-99.7647C201.6934,-91.0884 206.6031,-81.8721 211.2638,-73.123\"/>\n",
       "<polygon fill=\"#000000\" stroke=\"#000000\" points=\"214.3955,-74.6883 216.0081,-64.2169 208.2175,-71.3971 214.3955,-74.6883\"/>\n",
       "</g>\n",
       "</g>\n",
       "</svg>\n"
      ],
      "text/plain": [
       "<graphviz.files.Source at 0x1a220f2a10>"
      ]
     },
     "execution_count": 79,
     "metadata": {},
     "output_type": "execute_result"
    }
   ],
   "source": [
    "dot_data = tree.export_graphviz(dt_dict[1], out_file=None, \n",
    "                      feature_names=X.columns,  \n",
    "                      class_names=['Died','Lived'],  \n",
    "                      filled=True, rounded=True,  \n",
    "                      special_characters=True)  \n",
    "graph = graphviz.Source(dot_data)  \n",
    "graph "
   ]
  },
  {
   "cell_type": "code",
   "execution_count": 150,
   "metadata": {},
   "outputs": [
    {
     "name": "stdout",
     "output_type": "stream",
     "text": [
      "train score:  0.8471615720524017\n",
      "test score:  0.8\n"
     ]
    }
   ],
   "source": [
    "#Decision Tree on males only\n",
    "from sklearn import tree\n",
    "X_female = X[X.m_f==1]\n",
    "y_female = y.loc[X_female.index]\n",
    "X_test_female = X_test[X_test.m_f==1]\n",
    "y_test_female = y_test.loc[X_test_female.index]\n",
    "\n",
    "#drop name_len\n",
    "clf = tree.DecisionTreeClassifier(max_depth = 10, min_samples_leaf = 10).fit(X_female, y_female['Survived'])\n",
    "\n",
    "print('train score: ',clf.score(X_female, y_female['Survived']))\n",
    "\n",
    "print('test score: ',clf.score(X_test_female, y_test_female['Survived']))"
   ]
  },
  {
   "cell_type": "code",
   "execution_count": 80,
   "metadata": {},
   "outputs": [
    {
     "name": "stdout",
     "output_type": "stream",
     "text": [
      "Males Only - RF\n",
      "PClass:  1\n",
      "k =  10  /train score:  1.0  /test score:  0.9705882352941176\n",
      "k =  20  /train score:  0.9770114942528736  /test score:  0.9705882352941176\n",
      "k =  50  /train score:  0.9885057471264368  /test score:  0.9705882352941176\n",
      "k =  100  /train score:  0.9770114942528736  /test score:  0.9411764705882353\n",
      "k =  500  /train score:  0.9885057471264368  /test score:  0.9705882352941176\n",
      "PClass:  2\n",
      "k =  10  /train score:  0.9047619047619048  /test score:  1.0\n",
      "k =  20  /train score:  0.8928571428571429  /test score:  1.0\n",
      "k =  50  /train score:  0.9404761904761905  /test score:  1.0\n",
      "k =  100  /train score:  0.9047619047619048  /test score:  1.0\n",
      "k =  500  /train score:  0.8928571428571429  /test score:  1.0\n",
      "PClass:  3\n",
      "k =  10  /train score:  0.9774436090225563  /test score:  0.987012987012987\n",
      "k =  20  /train score:  0.9661654135338346  /test score:  0.987012987012987\n",
      "k =  50  /train score:  0.9736842105263158  /test score:  0.987012987012987\n",
      "k =  100  /train score:  0.981203007518797  /test score:  1.0\n",
      "k =  500  /train score:  0.981203007518797  /test score:  1.0\n",
      ".....\n",
      "Females Only - RF\n",
      "PClass:  1\n",
      "k =  10  /train score:  0.9838709677419355  /test score:  0.9333333333333333\n",
      "k =  20  /train score:  0.9838709677419355  /test score:  0.9333333333333333\n",
      "k =  50  /train score:  0.9838709677419355  /test score:  0.9333333333333333\n",
      "k =  100  /train score:  0.9838709677419355  /test score:  0.9333333333333333\n",
      "k =  500  /train score:  0.9838709677419355  /test score:  0.9333333333333333\n",
      "PClass:  2\n",
      "k =  10  /train score:  0.9122807017543859  /test score:  0.9473684210526315\n",
      "k =  20  /train score:  0.9122807017543859  /test score:  0.9473684210526315\n",
      "k =  50  /train score:  0.9122807017543859  /test score:  0.9473684210526315\n",
      "k =  100  /train score:  0.9122807017543859  /test score:  0.9473684210526315\n",
      "k =  500  /train score:  0.9122807017543859  /test score:  0.9473684210526315\n",
      "PClass:  3\n",
      "k =  10  /train score:  0.9807692307692307  /test score:  0.8918918918918919\n",
      "k =  20  /train score:  0.9903846153846154  /test score:  0.9459459459459459\n",
      "k =  50  /train score:  0.9903846153846154  /test score:  0.972972972972973\n",
      "k =  100  /train score:  1.0  /test score:  0.972972972972973\n",
      "k =  500  /train score:  0.9903846153846154  /test score:  0.972972972972973\n"
     ]
    }
   ],
   "source": [
    "from sklearn.ensemble import RandomForestClassifier\n",
    "X_female = X[X.m_f==0]\n",
    "y_female = y.loc[X_female.index]\n",
    "X_test_female = X_test[X_test.m_f==0]\n",
    "y_test_female = y_test.loc[X_test_female.index]\n",
    "\n",
    "print('Males Only - RF')\n",
    "for pclass in [1,2,3]:\n",
    "    print('PClass: ',pclass)\n",
    "    for i in [10,20,50,100,500]:\n",
    "        X_experiment = X_female[X_female.Pclass==pclass]\n",
    "        y_experiment = y_female.loc[X_experiment.index]\n",
    "        X_test_exp = X_test_female[X_test_female.Pclass==pclass]\n",
    "        y_test_exp = y_test_female.loc[X_test_exp.index]\n",
    "\n",
    "        clf = RandomForestClassifier(n_estimators=i,min_samples_leaf = 5).fit(X_experiment, y_experiment['Survived'])\n",
    "        \n",
    "        print('k = ',i,' /train score: ',clf.score(X_experiment, y_experiment['Survived']),' /test score: ',clf.score(X_test_exp, y_test_exp['Survived']))\n",
    "\n",
    "        #print('k = ',i,' /test score: ',clf.score(X_test_exp, y_test_exp['Survived']))\n",
    "    \n",
    "\n",
    "\n",
    "print('.....')\n",
    "\n",
    "X_female = X[X.m_f==1]\n",
    "y_female = y.loc[X_female.index]\n",
    "X_test_female = X_test[X_test.m_f==1]\n",
    "y_test_female = y_test.loc[X_test_female.index]\n",
    "\n",
    "print('Females Only - RF')\n",
    "for pclass in [1,2,3]:\n",
    "    print('PClass: ',pclass)\n",
    "    for i in [10,20,50,100,500]:\n",
    "        X_experiment = X_female[X_female.Pclass==pclass]\n",
    "        y_experiment = y_female.loc[X_experiment.index]\n",
    "        X_test_exp = X_test_female[X_test_female.Pclass==pclass]\n",
    "        y_test_exp = y_test_female.loc[X_test_exp.index]\n",
    "\n",
    "        clf = RandomForestClassifier(n_estimators=i,min_samples_leaf = 5).fit(X_experiment, y_experiment['Survived'])\n",
    "        \n",
    "        print('k = ',i,' /train score: ',clf.score(X_experiment, y_experiment['Survived']),' /test score: ',clf.score(X_test_exp, y_test_exp['Survived']))\n",
    "\n",
    "        #print('k = ',i,' /test score: ',clf.score(X_test_exp, y_test_exp['Survived']))\n",
    "    \n"
   ]
  },
  {
   "cell_type": "code",
   "execution_count": 81,
   "metadata": {},
   "outputs": [
    {
     "name": "stdout",
     "output_type": "stream",
     "text": [
      "Feature ranking:\n",
      "1. feature tick_surv_rate (0.564057)\n",
      "2. feature m_f (0.128514)\n",
      "3. feature fare_norm (0.042907)\n",
      "4. feature name_len (0.039864)\n",
      "5. feature age_norm (0.037289)\n",
      "6. feature Pclass (0.030593)\n",
      "7. feature cabin_bin (0.022389)\n",
      "8. feature family_size_cat_small (0.020247)\n",
      "9. feature tix_group (0.015505)\n",
      "10. feature ticket_age_range (0.013494)\n",
      "11. feature embark_num (0.010157)\n",
      "12. feature last_age_range (0.009640)\n",
      "13. feature age_cat_baby (0.009252)\n",
      "14. feature age_cat_mid_life (0.009160)\n",
      "15. feature ticket_rg_cat_b_rg (0.008970)\n",
      "16. feature SibSp (0.005947)\n",
      "17. feature ticket_rg_cat_Alone (0.004102)\n",
      "18. feature family_size_cat_single (0.003934)\n",
      "19. feature Parch (0.003570)\n",
      "20. feature last_rg_cat_last_Alone (0.002960)\n",
      "21. feature age_cat_old (0.002690)\n",
      "22. feature age_cat_young_adult (0.002682)\n",
      "23. feature ticket_rg_cat_a_rg (0.002254)\n",
      "24. feature last_rg_cat_last_b_rg (0.002170)\n",
      "25. feature family_size_cat_large (0.001972)\n",
      "26. feature ticket_rg_cat_c_rg (0.001643)\n",
      "27. feature last_rg_cat_last_a_rg (0.001629)\n",
      "28. feature last_rg_cat_last_c_rg (0.001078)\n",
      "29. feature age_cat_child (0.000919)\n",
      "30. feature family_size_cat_medium (0.000218)\n",
      "31. feature title_class_normal (0.000197)\n",
      "32. feature title_class_army_high (0.000000)\n",
      "33. feature title_class_social_high (0.000000)\n",
      "34. feature title_class_social_low (0.000000)\n"
     ]
    },
    {
     "data": {
      "image/png": "[encoded data removed]",
      "text/plain": [
       "<Figure size 432x288 with 1 Axes>"
      ]
     },
     "metadata": {
      "needs_background": "light"
     },
     "output_type": "display_data"
    }
   ],
   "source": [
    "#train 1 RF and see feature importants\n",
    "clf = RandomForestClassifier(n_estimators=100,min_samples_leaf = 5).fit(X, y['Survived'])\n",
    "\n",
    "importances = clf.feature_importances_\n",
    "#std = np.std([tree.feature_importances_ for tree in forest.estimators_],\n",
    " #            axis=0)\n",
    "indices = np.argsort(importances)[::-1]\n",
    "\n",
    "ind_list = []\n",
    "for i in indices:\n",
    "    ind_list.append(X.columns[i])\n",
    "\n",
    "# Print the feature ranking\n",
    "print(\"Feature ranking:\")\n",
    "\n",
    "for f in range(X.shape[1]):\n",
    "    print(\"%d. feature %s (%f)\" % (f + 1, ind_list[f], importances[indices[f]]))\n",
    "\n",
    "# Plot the impurity-based feature importances of the forest\n",
    "plt.figure()\n",
    "plt.title(\"Feature importances\")\n",
    "plt.bar(range(X.shape[1]), importances[indices],\n",
    "        color=\"r\", align=\"center\")\n",
    "plt.xticks(range(X.shape[1]), ind_list)\n",
    "plt.xlim([-1, X.shape[1]])\n",
    "plt.show()"
   ]
  },
  {
   "cell_type": "code",
   "execution_count": 163,
   "metadata": {},
   "outputs": [
    {
     "name": "stdout",
     "output_type": "stream",
     "text": [
      "PClass:  1\n",
      "k =  10  /train score:  0.8488372093023255\n",
      "k =  10  /test score:  0.6388888888888888\n",
      "k =  20  /train score:  0.7325581395348837\n",
      "k =  20  /test score:  0.6944444444444444\n",
      "k =  50  /train score:  0.7906976744186046\n",
      "k =  50  /test score:  0.6666666666666666\n",
      "k =  100  /train score:  0.8255813953488372\n",
      "k =  100  /test score:  0.6944444444444444\n",
      "k =  500  /train score:  0.7790697674418605\n",
      "k =  500  /test score:  0.6666666666666666\n",
      "PClass:  2\n",
      "k =  10  /train score:  0.8275862068965517\n",
      "k =  10  /test score:  0.9047619047619048\n",
      "k =  20  /train score:  0.9080459770114943\n",
      "k =  20  /test score:  0.9523809523809523\n",
      "k =  50  /train score:  0.9195402298850575\n",
      "k =  50  /test score:  0.9523809523809523\n",
      "k =  100  /train score:  0.9195402298850575\n",
      "k =  100  /test score:  0.9523809523809523\n",
      "k =  500  /train score:  0.9195402298850575\n",
      "k =  500  /test score:  0.9523809523809523\n",
      "PClass:  3\n",
      "k =  10  /train score:  0.8609022556390977\n",
      "k =  10  /test score:  0.9012345679012346\n",
      "k =  20  /train score:  0.868421052631579\n",
      "k =  20  /test score:  0.9135802469135802\n",
      "k =  50  /train score:  0.8646616541353384\n",
      "k =  50  /test score:  0.9012345679012346\n",
      "k =  100  /train score:  0.868421052631579\n",
      "k =  100  /test score:  0.9012345679012346\n",
      "k =  500  /train score:  0.8646616541353384\n",
      "k =  500  /test score:  0.9012345679012346\n"
     ]
    }
   ],
   "source": [
    "X_male = X[X.m_f==0]\n",
    "y_male = y.loc[X_male.index]\n",
    "X_test_male = X_test[X_test.m_f==0]\n",
    "y_test_male = y_test.loc[X_test_male.index]\n",
    "\n",
    "\n",
    "for pclass in [1,2,3]:\n",
    "    print('PClass: ',pclass)\n",
    "    for i in [10,20,50,100,500]:\n",
    "        X_experiment = X_male[X_male.Pclass==pclass]\n",
    "        y_experiment = y_male.loc[X_experiment.index]\n",
    "        X_test_exp = X_test_male[X_test_male.Pclass==pclass]\n",
    "        y_test_exp = y_test_male.loc[X_test_exp.index]\n",
    "\n",
    "        clf = RandomForestClassifier(n_estimators=i,min_samples_leaf = 5).fit(X_experiment, y_experiment['Survived'])\n",
    "        \n",
    "        print('k = ',i,' /train score: ',clf.score(X_experiment, y_experiment['Survived']))\n",
    "\n",
    "        print('k = ',i,' /test score: ',clf.score(X_test_exp, y_test_exp['Survived']))\n",
    "    "
   ]
  },
  {
   "cell_type": "code",
   "execution_count": 156,
   "metadata": {},
   "outputs": [
    {
     "name": "stdout",
     "output_type": "stream",
     "text": [
      "k =  10  /train score:  0.8656036446469249\n",
      "k =  10  /test score:  0.8405797101449275\n",
      "k =  20  /train score:  0.8724373576309795\n",
      "k =  20  /test score:  0.8623188405797102\n",
      "k =  50  /train score:  0.876993166287016\n",
      "k =  50  /test score:  0.8768115942028986\n",
      "k =  100  /train score:  0.8610478359908884\n",
      "k =  100  /test score:  0.8478260869565217\n",
      "k =  500  /train score:  0.8656036446469249\n",
      "k =  500  /test score:  0.8623188405797102\n"
     ]
    }
   ],
   "source": [
    "#Random Forest\n",
    "from sklearn.ensemble import RandomForestClassifier\n",
    "for i in [10,20,50,100,500]:\n",
    "    clf = RandomForestClassifier(n_estimators=i,min_samples_leaf = 5).fit(X_male, y_male['Survived'])\n",
    "    \n",
    "    print('k = ',i,' /train score: ',clf.score(X_male, y_male['Survived']))\n",
    "\n",
    "    print('k = ',i,' /test score: ',clf.score(X_test_male, y_test_male['Survived']))"
   ]
  },
  {
   "cell_type": "code",
   "execution_count": 157,
   "metadata": {},
   "outputs": [
    {
     "name": "stdout",
     "output_type": "stream",
     "text": [
      "k =  10  /train score:  0.8995633187772926\n",
      "k =  10  /test score:  0.8352941176470589\n",
      "k =  20  /train score:  0.8820960698689956\n",
      "k =  20  /test score:  0.8235294117647058\n",
      "k =  50  /train score:  0.8864628820960698\n",
      "k =  50  /test score:  0.8235294117647058\n",
      "k =  100  /train score:  0.8908296943231441\n",
      "k =  100  /test score:  0.8235294117647058\n",
      "k =  500  /train score:  0.8908296943231441\n",
      "k =  500  /test score:  0.8352941176470589\n"
     ]
    }
   ],
   "source": [
    "#Random Forest\n",
    "from sklearn.ensemble import RandomForestClassifier\n",
    "for i in [10,20,50,100,500]:\n",
    "    clf = RandomForestClassifier(n_estimators=i, min_samples_leaf = 5).fit(X_female, y_female['Survived'])\n",
    "    \n",
    "    print('k = ',i,' /train score: ',clf.score(X_female, y_female['Survived']))\n",
    "\n",
    "    print('k = ',i,' /test score: ',clf.score(X_test_female, y_test_female['Survived']))"
   ]
  },
  {
   "cell_type": "code",
   "execution_count": 23,
   "metadata": {},
   "outputs": [
    {
     "name": "stdout",
     "output_type": "stream",
     "text": [
      "train score:  0.8937125748502994\n",
      "test score:  0.8026905829596412\n"
     ]
    }
   ],
   "source": [
    "from sklearn.ensemble import AdaBoostClassifier\n",
    "\n",
    "clf = AdaBoostClassifier(n_estimators=200).fit(X_scaled,y['Survived'])\n",
    "\n",
    "print('train score: ',clf.score(X_scaled, y['Survived']))\n",
    "\n",
    "print('test score: ',clf.score(X_test_scaled, y_test['Survived']))"
   ]
  },
  {
   "cell_type": "code",
   "execution_count": 24,
   "metadata": {},
   "outputs": [
    {
     "ename": "NameError",
     "evalue": "name 'DecisionTreeClassifier' is not defined",
     "output_type": "error",
     "traceback": [
      "\u001b[0;31m---------------------------------------------------------------------------\u001b[0m",
      "\u001b[0;31mNameError\u001b[0m                                 Traceback (most recent call last)",
      "\u001b[0;32m<ipython-input-24-4cf4ebd5758d>\u001b[0m in \u001b[0;36m<module>\u001b[0;34m\u001b[0m\n\u001b[0;32m----> 1\u001b[0;31m clf = AdaBoostClassifier(DecisionTreeClassifier(max_depth=1),\n\u001b[0m\u001b[1;32m      2\u001b[0m                          \u001b[0malgorithm\u001b[0m\u001b[0;34m=\u001b[0m\u001b[0;34m\"SAMME\"\u001b[0m\u001b[0;34m,\u001b[0m\u001b[0;34m\u001b[0m\u001b[0;34m\u001b[0m\u001b[0m\n\u001b[1;32m      3\u001b[0m                          n_estimators=200).fit(X_scaled,y)\n\u001b[1;32m      4\u001b[0m \u001b[0;34m\u001b[0m\u001b[0m\n\u001b[1;32m      5\u001b[0m \u001b[0mprint\u001b[0m\u001b[0;34m(\u001b[0m\u001b[0;34m'train score: '\u001b[0m\u001b[0;34m,\u001b[0m\u001b[0mclf\u001b[0m\u001b[0;34m.\u001b[0m\u001b[0mscore\u001b[0m\u001b[0;34m(\u001b[0m\u001b[0mX_scaled\u001b[0m\u001b[0;34m,\u001b[0m \u001b[0my\u001b[0m\u001b[0;34m)\u001b[0m\u001b[0;34m)\u001b[0m\u001b[0;34m\u001b[0m\u001b[0;34m\u001b[0m\u001b[0m\n",
      "\u001b[0;31mNameError\u001b[0m: name 'DecisionTreeClassifier' is not defined"
     ]
    }
   ],
   "source": [
    "clf = AdaBoostClassifier(DecisionTreeClassifier(max_depth=1),\n",
    "                         algorithm=\"SAMME\",\n",
    "                         n_estimators=200).fit(X_scaled,y)\n",
    "\n",
    "print('train score: ',clf.score(X_scaled, y))\n",
    "\n",
    "print('test score: ',clf.score(X_test_scaled, y_test))"
   ]
  },
  {
   "cell_type": "code",
   "execution_count": 27,
   "metadata": {},
   "outputs": [
    {
     "data": {
      "text/plain": [
       "array([4.12876276e-02, 1.23428114e-01, 2.10395965e-02, 1.40467562e-02,\n",
       "       9.91751968e-02, 1.02484052e-01, 2.24069742e-02, 1.26077726e-01,\n",
       "       1.91036464e-02, 1.57523997e-02, 3.17621059e-02, 3.80428893e-02,\n",
       "       1.03491621e-01, 1.81643003e-03, 5.32120500e-03, 5.04979024e-03,\n",
       "       4.70848450e-03, 7.19767602e-03, 1.51425034e-03, 1.41917450e-03,\n",
       "       8.59506074e-04, 1.77458255e-04, 1.13796514e-02, 8.81818886e-03,\n",
       "       7.05618366e-03, 3.52683638e-02, 5.08688653e-05, 1.10430307e-01,\n",
       "       3.37807334e-02, 7.05302267e-03])"
      ]
     },
     "execution_count": 27,
     "metadata": {},
     "output_type": "execute_result"
    }
   ],
   "source": [
    "clf.feature_importances_"
   ]
  },
  {
   "cell_type": "code",
   "execution_count": 38,
   "metadata": {},
   "outputs": [
    {
     "data": {
      "text/plain": [
       "PassengerId\n",
       "710     True\n",
       "440     True\n",
       "841     True\n",
       "721     True\n",
       "40     False\n",
       "       ...  \n",
       "881     True\n",
       "426     True\n",
       "102     True\n",
       "200    False\n",
       "425     True\n",
       "Name: Survived, Length: 223, dtype: bool"
      ]
     },
     "execution_count": 38,
     "metadata": {},
     "output_type": "execute_result"
    }
   ],
   "source": [
    "y_test['Survived'] == clf.predict(X_test)"
   ]
  },
  {
   "cell_type": "code",
   "execution_count": 85,
   "metadata": {},
   "outputs": [
    {
     "data": {
      "text/plain": [
       "Int64Index([710, 721, 486, 245, 622, 448,  31, 674, 397, 794, 236, 205,  24,\n",
       "            791, 363, 803, 281, 197, 773, 768, 540, 358, 255, 779, 175, 494,\n",
       "            166, 389, 713, 339, 287, 513,  97, 293, 276,  79, 579,  66, 600,\n",
       "             50, 855, 585, 644, 658, 297,   6, 458,  98, 573, 853,  26,  56,\n",
       "             82, 535, 391, 469, 410, 200],\n",
       "           dtype='int64', name='PassengerId')"
      ]
     },
     "execution_count": 85,
     "metadata": {},
     "output_type": "execute_result"
    }
   ],
   "source": [
    "wrong = y_test.index[y_test['Survived'] != clf.predict(X_test)]\n",
    "y_test.index[y_test['Survived'] != clf.predict(X_test)]"
   ]
  },
  {
   "cell_type": "code",
   "execution_count": 89,
   "metadata": {},
   "outputs": [],
   "source": [
    "remerge = X_test.merge(y_test,how='left',left_index=True,right_index=True)\n",
    "review_incorrect = remerge.loc[wrong]\n",
    "wrong_male = review_incorrect[review_incorrect.m_f==0]\n",
    "wrong_female = review_incorrect[review_incorrect.m_f==1]"
   ]
  },
  {
   "cell_type": "code",
   "execution_count": 90,
   "metadata": {},
   "outputs": [
    {
     "name": "stdout",
     "output_type": "stream",
     "text": [
      "m_f\n",
      "Age\n",
      "adj_fare\n",
      "name_len\n",
      "family_size\n",
      "Pclass\n",
      "tix_group\n",
      "embark_num\n",
      "rare_title\n"
     ]
    }
   ],
   "source": [
    "for f in ind_list:\n",
    "    print(f)"
   ]
  },
  {
   "cell_type": "code",
   "execution_count": null,
   "metadata": {},
   "outputs": [],
   "source": [
    "#split data on 2-4 most important features and eval hist\n",
    "\n",
    "for f in ind_list:\n",
    "    if f == 'm_f':\n",
    "        continue\n",
    "        \n",
    "    \n",
    "    \n",
    "    ind_list[f], importances[indices[f]]))"
   ]
  },
  {
   "cell_type": "code",
   "execution_count": null,
   "metadata": {},
   "outputs": [],
   "source": []
  }
 ],
 "metadata": {
  "kernelspec": {
   "display_name": "Python 3",
   "language": "python",
   "name": "python3"
  },
  "language_info": {
   "codemirror_mode": {
    "name": "ipython",
    "version": 3
   },
   "file_extension": ".py",
   "mimetype": "text/x-python",
   "name": "python",
   "nbconvert_exporter": "python",
   "pygments_lexer": "ipython3",
   "version": "3.7.4"
  }
 },
 "nbformat": 4,
 "nbformat_minor": 2
}

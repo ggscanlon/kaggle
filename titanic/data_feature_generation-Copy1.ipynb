{
 "cells": [
  {
   "cell_type": "code",
   "execution_count": 97,
   "metadata": {},
   "outputs": [],
   "source": [
    "import numpy as np\n",
    "import pandas as pd\n",
    "import matplotlib.pyplot as plt"
   ]
  },
  {
   "cell_type": "code",
   "execution_count": 818,
   "metadata": {},
   "outputs": [],
   "source": [
    "#normalize data\n",
    "def normalize_features(df):\n",
    "    return df.divide(df.max(axis=0),axis=1)\n",
    "\n",
    "def feature_rebase(train,test,col_name,new_col,new_values):\n",
    "    key_list = list(new_values.keys())\n",
    "    if 'default' in new_values.keys():\n",
    "        train[new_col] = new_values['default']\n",
    "        test[new_col] = new_values['default']\n",
    "        key_list.remove('default')\n",
    "        \n",
    "    for k in key_list:\n",
    "        train[new_col].loc[train[train[col_name]==k].index] = new_values[k]\n",
    "        test[new_col].loc[test[test[col_name]==k].index] = new_values[k]\n",
    "        \n",
    "    return train, test\n",
    "\n",
    "def fill_by_mode(df, tgt_col, rel_cols=None, null_val = np.nan):\n",
    "    if rel_cols == None:\n",
    "        #select rel_cols based on highest correlation, arbitrary cutoff at 7\n",
    "        hunt_corr = abs(df.corr()[tgt_col])\n",
    "        end = np.min((len(hunt_corr[1:]),7))\n",
    "        rel_cols = list(hunt_corr.sort_values(ascending=False)[1:end].index)\n",
    "    \n",
    "    print('by mode: ',tgt_col, rel_cols)\n",
    "    summ_dict = {}\n",
    "    summ_dict['rel_cols'] = rel_cols\n",
    "    k_used = list()\n",
    "    hunt_dict = {}\n",
    "    gs = df.copy()\n",
    "    \n",
    "    tgt_ind = list(df[df[tgt_col].isna()].index)\n",
    "    for i in tgt_ind:\n",
    "        for col in rel_cols:\n",
    "            hunt_dict[col] = df[col].loc[i]\n",
    "        \n",
    "        for k in hunt_dict:\n",
    "            if len(gs.loc[gs[gs[k] == hunt_dict[k]].index]) > 0:\n",
    "                gs = gs.loc[gs[gs[k] == hunt_dict[k]].index]\n",
    "                k_used.append(k)\n",
    "        \n",
    "        if len(gs[tgt_col].mode()) == 0:\n",
    "                df[tgt_col].loc[i] = null_val\n",
    "        else: \n",
    "            df[tgt_col].loc[i] = gs[tgt_col].mode()\n",
    "        summ_dict[i] = k_used\n",
    "        hunt_dict = {}\n",
    "        k_used = list()\n",
    "    \n",
    "    return df, pd.DataFrame.from_dict(summ_dict, orient='index')\n",
    "\n",
    "\n",
    "def fill_by_mean(df, tgt_col, rel_cols=None, null_val = np.nan):\n",
    "    df = df\n",
    "    tgt_col = tgt_col\n",
    "    if rel_cols == None:\n",
    "        #select rel_cols based on highest correlation, arbitrary cutoff at 7\n",
    "        hunt_corr = abs(df.corr()[tgt_col])\n",
    "        end = np.min((len(hunt_corr[1:]),7))\n",
    "        rel_cols = list(hunt_corr.sort_values(ascending=False)[1:end].index)\n",
    "    \n",
    "    print('by mean: ',tgt_col, rel_cols)\n",
    "    summ_dict = {}\n",
    "    summ_dict['rel_cols'] = rel_cols\n",
    "    k_used = list()\n",
    "    hunt_dict = {}\n",
    "    gs = df\n",
    "    tgt_ind = list(df[df[tgt_col].isna()].index)\n",
    "    for i in tgt_ind:\n",
    "\n",
    "        for col in rel_cols:\n",
    "            hunt_dict[col] = df[col].loc[i]\n",
    "        \n",
    "        for k in hunt_dict:\n",
    "            if len(gs.loc[gs[gs[k] == hunt_dict[k]].index]) > 0:\n",
    "                gs = gs.loc[gs[gs[k] == hunt_dict[k]].index]\n",
    "                k_used.append(k)\n",
    "        \n",
    "        if len(gs[tgt_col].mode()) == 0:\n",
    "                df[tgt_col].loc[i] = null_val\n",
    "        else: \n",
    "            df[tgt_col].loc[i] = gs[tgt_col].mean()\n",
    "        \n",
    "        summ_dict[i] = k_used\n",
    "        hunt_dict = {}\n",
    "        k_used = list()\n",
    "        gs = df\n",
    "    \n",
    "    return df, pd.DataFrame.from_dict(summ_dict, orient='index')"
   ]
  },
  {
   "cell_type": "markdown",
   "metadata": {},
   "source": [
    "# load data, set index, review where missing values are"
   ]
  },
  {
   "cell_type": "code",
   "execution_count": 819,
   "metadata": {},
   "outputs": [
    {
     "name": "stdout",
     "output_type": "stream",
     "text": [
      "train unique match:  Sex True\n",
      "test unique match:  Sex True\n",
      "train unique match:  Embarked False\n",
      "test unique match:  Embarked True\n",
      "train unique match:  Pclass True\n",
      "test unique match:  Pclass True\n",
      "na in train  Age % of total:  0.19865319865319866\n",
      "na in train  Cabin % of total:  0.7710437710437711\n",
      "na in train  Embarked % of total:  0.002244668911335578\n",
      "na in test  Age % of total:  0.20574162679425836\n",
      "na in test  Fare % of total:  0.0023923444976076554\n",
      "na in test  Cabin % of total:  0.7822966507177034\n"
     ]
    }
   ],
   "source": [
    "file_loc = '/Users/gregscanlon/Documents/Kaggle/titanic/'\n",
    "init_train = pd.read_csv(file_loc+'train.csv')\n",
    "init_test = pd.read_csv(file_loc+'test.csv')\n",
    "\n",
    "train = init_train\n",
    "ind = 'PassengerId'\n",
    "train.set_index(ind,inplace=True)\n",
    "test = init_test\n",
    "test.set_index(ind,inplace=True)\n",
    "\n",
    "#check data\n",
    "check_dict = {'Sex':2,'Embarked': 3,'Pclass':3}\n",
    "\n",
    "for k in check_dict:\n",
    "    \n",
    "    print('train unique match: ', k, len(train[k].unique())==check_dict[k])\n",
    "    print('test unique match: ', k, len(test[k].unique())==check_dict[k])\n",
    "\n",
    "train_na = list()\n",
    "for col in train:\n",
    "    if train[col].isna().any():\n",
    "        print('na in train ',col, '% of total: ',len(train[train[col].isna()])/len(train[col]))\n",
    "        train_na.append(col)\n",
    "        \n",
    "test_na = list()\n",
    "for col in test:\n",
    "    if test[col].isna().any():\n",
    "        print('na in test ',col, '% of total: ',len(test[test[col].isna()])/len(test[col]))\n",
    "        test_na.append(col)"
   ]
  },
  {
   "cell_type": "markdown",
   "metadata": {},
   "source": [
    "# Feature Generation, Part A"
   ]
  },
  {
   "cell_type": "code",
   "execution_count": 822,
   "metadata": {},
   "outputs": [],
   "source": [
    "#feature generation\n",
    "#first generate some features so we can then fill values\n",
    "columns = ['Pclass','SibSp','Parch','Age']\n",
    "\n",
    "#male-female to 0 1\n",
    "#male: 0\n",
    "#female: 1\n",
    "col_name = 'Sex'\n",
    "new_col = 'm_f'\n",
    "new_values = {'default':0,'female':1}\n",
    "\n",
    "train, test = feature_rebase(train,test,col_name,new_col,new_values)\n",
    "\n",
    "columns.append(new_col)\n",
    "\n",
    "#embarked\n",
    "#nan:0\n",
    "#S:1\n",
    "#C:2\n",
    "#Q:3\n",
    "col_name = 'Embarked'\n",
    "new_col = 'embark_num'\n",
    "new_values = {'default':0,'S':1,'C':2,'Q':3}\n",
    "\n",
    "train, test = feature_rebase(train,test,col_name,new_col,new_values)\n",
    "\n",
    "columns.append(new_col)\n",
    "\n",
    "#length of name\n",
    "col_name = 'Name'\n",
    "new_col = 'name_len'\n",
    "train[new_col] = train[col_name].str.len()/train[col_name].str.len().max()\n",
    "test[new_col] = test[col_name].str.len()/test[col_name].str.len().max()\n",
    "\n",
    "columns.append(new_col)\n",
    "\n",
    "\n",
    "'''#normalize fare\n",
    "col_name = 'Fare'\n",
    "new_col = 'fare_norm'\n",
    "train[new_col] = train[col_name]/train[col_name].max()\n",
    "test[new_col] = test[col_name]/test[col_name].max()\n",
    "\n",
    "columns.append(new_col)\n",
    "\n",
    "#normalize age\n",
    "col_name = 'Age'\n",
    "new_col = 'age_norm'\n",
    "train[new_col] = train[col_name]/train[col_name].max()\n",
    "test[new_col] = test[col_name]/test[col_name].max()\n",
    "\n",
    "columns.append(new_col)'''\n",
    "\n",
    "col_name = 'Cabin'\n",
    "new_col = 'cabin_bin'\n",
    "train[new_col] = train[col_name].str.len()>0\n",
    "test[new_col] = test[col_name].str.len()>0\n",
    "\n",
    "col_name = 'Ticket'\n",
    "new_col = 'ticket_alpha'\n",
    "train[new_col] = train[col_name].str.contains('[^\\W\\d_]')*1\n",
    "test[new_col] = test[col_name].str.contains('[^\\W\\d_]')*1\n",
    "\n",
    "#line workers with Fare = $0 get Cabin = 'L' and Fare = $0.01\n",
    "train['Cabin'].loc[train[train['Ticket']=='LINE'].index] = 'L'\n",
    "train['Fare'].loc[train[train['Ticket']=='LINE'].index] = 0.01\n",
    "\n",
    "train['cabin_alpha'] = train['Cabin'].str.extract(r'(\\w)')\n",
    "train['cabin_num'] = train['Cabin'].str.extract(r'(\\d+)').astype(float)\n",
    "\n",
    "test['cabin_alpha'] = test['Cabin'].str.extract(r'(\\w)')\n",
    "test['cabin_num'] = test['Cabin'].str.extract(r'(\\d+)').astype(float)\n",
    "\n",
    "#if you were a lower class parent/child, assign to 'ZP'\n",
    "train['cabin_alpha'].loc[train[(train['cabin_alpha'].isna())&(train['Pclass']==3)&(train['Parch']>0)].index] = 'ZP'\n",
    "test['cabin_alpha'].loc[test[(test['cabin_alpha'].isna())&(test['Pclass']==3)&(test['Parch']>0)].index] = 'ZP'"
   ]
  },
  {
   "cell_type": "markdown",
   "metadata": {},
   "source": [
    "# Fill missing and Fare = 0 values"
   ]
  },
  {
   "cell_type": "code",
   "execution_count": 772,
   "metadata": {},
   "outputs": [
    {
     "name": "stderr",
     "output_type": "stream",
     "text": [
      "/Users/gregscanlon/opt/anaconda3/lib/python3.7/site-packages/ipykernel_launcher.py:2: SettingWithCopyWarning: \n",
      "A value is trying to be set on a copy of a slice from a DataFrame\n",
      "\n",
      "See the caveats in the documentation: http://pandas.pydata.org/pandas-docs/stable/user_guide/indexing.html#returning-a-view-versus-a-copy\n",
      "  \n",
      "/Users/gregscanlon/opt/anaconda3/lib/python3.7/site-packages/ipykernel_launcher.py:3: SettingWithCopyWarning: \n",
      "A value is trying to be set on a copy of a slice from a DataFrame\n",
      "\n",
      "See the caveats in the documentation: http://pandas.pydata.org/pandas-docs/stable/user_guide/indexing.html#returning-a-view-versus-a-copy\n",
      "  This is separate from the ipykernel package so we can avoid doing imports until\n"
     ]
    },
    {
     "name": "stdout",
     "output_type": "stream",
     "text": [
      "by mean:  Fare ['Pclass', 'cabin_bin', 'Survived', 'Parch', 'm_f', 'ticket_alpha']\n",
      "by mean:  Age ['Pclass', 'SibSp', 'cabin_bin', 'Parch', 'Fare', 'm_f']\n",
      "by mean:  embark_num ['m_f', 'name_len', 'Survived', 'ticket_alpha', 'Parch', 'cabin_num']\n",
      "by mode:  cabin_alpha ['Fare', 'Pclass', 'Parch', 'm_f', 'Age', 'embark_num']\n",
      "by mean:  Fare ['Pclass', 'cabin_bin', 'Age', 'cabin_num', 'Parch', 'name_len']\n",
      "by mean:  Age ['Pclass', 'cabin_bin', 'Fare', 'name_len', 'embark_num', 'cabin_num']\n",
      "by mean:  embark_num ['cabin_num', 'ticket_alpha', 'm_f', 'Parch', 'SibSp', 'name_len']\n",
      "by mode:  cabin_alpha ['Fare', 'Pclass', 'Parch', 'm_f', 'Age']\n",
      "na in train  Cabin % of total:  0.7665544332210998\n",
      "na in train  Embarked % of total:  0.002244668911335578\n",
      "na in train  cabin_num % of total:  0.7755331088664422\n",
      "na in test  Cabin % of total:  0.7822966507177034\n",
      "na in test  cabin_num % of total:  0.7870813397129187\n"
     ]
    }
   ],
   "source": [
    "#set fares that are $0 to nan so we can estimate them for train and test\n",
    "train['Fare'][train['Fare']==0] = np.nan\n",
    "test['Fare'][test['Fare']==0] = np.nan\n",
    "\n",
    "#fill in missing values using most correlated features and mean,mode\n",
    "train_summary = {}\n",
    "train_na = ['Fare','Age','embark_num']\n",
    "for col in train_na:\n",
    "    if np.issubdtype(train[col].dtype , np.number):\n",
    "        train, train_summary[col] = fill_by_mean(train,col,null_val = train[col].median())\n",
    "        \n",
    "    else:        \n",
    "        train, train_summary[col] = fill_by_mode(train,col)\n",
    "\n",
    "#assign everyone to a cabin_alpha = class\n",
    "train, train_summary['cabin_alpha'] = fill_by_mode(train,'cabin_alpha',['Fare','Pclass','Parch','m_f','Age','embark_num'],'U')\n",
    "\n",
    "test_na = ['Fare','Age','embark_num']\n",
    "test_summary = {}\n",
    "for col in test_na:\n",
    "    if np.issubdtype(train[col].dtype , np.number):\n",
    "        test, test_summary[col] = fill_by_mean(test,col, null_val = test[col].median())\n",
    "        \n",
    "    else:\n",
    "        test, test_summary[col] = fill_by_mode(test,col)\n",
    "        \n",
    "#assign everyone to a cabin_alpha = class\n",
    "test, test_summary['cabin_alpha'] = fill_by_mode(test,'cabin_alpha',['Fare','Pclass','Parch','m_f','Age'],'U')\n",
    "\n",
    "\n",
    "for col in train:\n",
    "    if train[col].isna().any():\n",
    "        print('na in train ',col, '% of total: ',len(train[train[col].isna()])/len(train[col]))\n",
    "        train_na.append(col)\n",
    "        \n",
    "for col in test:\n",
    "    if test[col].isna().any():\n",
    "        print('na in test ',col, '% of total: ',len(test[test[col].isna()])/len(test[col]))\n",
    "        test_na.append(col)"
   ]
  },
  {
   "cell_type": "code",
   "execution_count": 777,
   "metadata": {},
   "outputs": [],
   "source": [
    "#ONEHOT encode the cabin_alpha column from letters to numbers\n",
    "# we can then use this calculate correlation and assigned everyone to a cabin_alpha = class\n",
    "\n",
    "\n",
    "from sklearn.preprocessing import OneHotEncoder\n",
    "enc = OneHotEncoder(handle_unknown='ignore')\n",
    "\n",
    "cat_cols = 'cabin_alpha'\n",
    "x = list(train[cat_cols].unique().reshape(-1,1))\n",
    "\n",
    "#cat_cols = ['Sex','Embarked','Ticket','Cabin']\n",
    "#x = train[cat_cols].values\n",
    "enc.fit(x)\n",
    "onehot = enc.transform(train[cat_cols].values.reshape(-1,1)).toarray()\n",
    "\n",
    "#put onehot into df to later merge with data\n",
    "onehot_train_df = pd.DataFrame(data=onehot,columns=enc.categories_[0])\n",
    "onehot_train_df.set_index(train.index,inplace=True)\n",
    "\n",
    "onehot = enc.transform(test[cat_cols].values.reshape(-1,1)).toarray()\n",
    "\n",
    "#put onehot into df to later merge with data\n",
    "onehot_test_df = pd.DataFrame(data=onehot,columns=enc.categories_[0])\n",
    "onehot_test_df.set_index(test.index,inplace=True)"
   ]
  },
  {
   "cell_type": "code",
   "execution_count": 795,
   "metadata": {},
   "outputs": [],
   "source": [
    "#features from walk-through\n",
    "#title\n",
    "## get the title from the name\n",
    "train[\"title\"] = [i.split('.')[0] for i in train.Name]\n",
    "train[\"title\"] = [i.split(',')[1] for i in train.title]\n",
    "## Let's fix that\n",
    "train.title = train.title.apply(lambda x: x.strip())"
   ]
  },
  {
   "cell_type": "code",
   "execution_count": 796,
   "metadata": {},
   "outputs": [
    {
     "data": {
      "text/plain": [
       "array(['Mr', 'Mrs', 'Miss', 'Master', 'Don', 'Rev', 'Dr', 'Mme', 'Ms',\n",
       "       'Major', 'Lady', 'Sir', 'Mlle', 'Col', 'Capt', 'the Countess',\n",
       "       'Jonkheer'], dtype=object)"
      ]
     },
     "execution_count": 796,
     "metadata": {},
     "output_type": "execute_result"
    }
   ],
   "source": [
    "train.title.unique()"
   ]
  },
  {
   "cell_type": "code",
   "execution_count": 804,
   "metadata": {},
   "outputs": [],
   "source": [
    "#features from walk-through\n",
    "#title\n",
    "## get the title from the name\n",
    "train[\"title\"] = [i.split('.')[0] for i in train.Name]\n",
    "train[\"title\"] = [i.split(',')[1] for i in train.title]\n",
    "## Let's fix that\n",
    "train.title = train.title.apply(lambda x: x.strip())\n",
    "\n",
    "## Let's replace some of the rare values with the keyword 'rare' and other word choice of our own. \n",
    "## train Data\n",
    "title_dict = {}\n",
    "title_list = list(train.title.unique())\n",
    "title_dict['Mr'] = 'Mr'\n",
    "title_list.remove('Mr')\n",
    "title_dict['Ms'] = 'Miss'\n",
    "title_list.remove('Ms')\n",
    "title_dict['Mlle'] = 'Miss'\n",
    "title_list.remove('Mlle')\n",
    "title_dict['Mrs'] = 'Mrs'\n",
    "title_list.remove('Mrs')\n",
    "\n",
    "#set rest to rare\n",
    "for t in title_list:\n",
    "    title_dict[t] = 'rare'\n",
    "\n",
    "    \n",
    "for i in train.index:\n",
    "    train['title'].loc[i] = title_dict[train['title'].loc[i]]\n",
    "    \n",
    "\n",
    "#features from walk-through\n",
    "#title\n",
    "## get the title from the name\n",
    "test[\"title\"] = [i.split('.')[0] for i in test.Name]\n",
    "test[\"title\"] = [i.split(',')[1] for i in test.title]\n",
    "## Let's fix that\n",
    "test.title = test.title.apply(lambda x: x.strip())\n",
    "\n",
    "title_list = list(test.title.unique())\n",
    "\n",
    "#set rest to rare\n",
    "for t in title_list:\n",
    "    if t not in title_dict.keys():\n",
    "        title_dict[t] = 'rare'\n",
    "    \n",
    "## Let's replace some of the rare values with the keyword 'rare' and other word choice of our own. \n",
    "## train Data\n",
    "for i in test.index:\n",
    "    test['title'].loc[i] = title_dict[test['title'].loc[i]]\n",
    "\n",
    "\n",
    "#FAMILY SIZE\n",
    "## Family_size seems like a good feature to create\n",
    "train['family_size'] = train.SibSp + train.Parch+1\n",
    "test['family_size'] = test.SibSp + test.Parch+1\n",
    "\n",
    "def family_group(size):\n",
    "    \"\"\"\n",
    "    This funciton groups(loner, small, large) family based on family size\n",
    "    \"\"\"\n",
    "    \n",
    "    a = ''\n",
    "    if (size <= 1):\n",
    "        a = 'loner'\n",
    "    elif (size <= 4):\n",
    "        a = 'small'\n",
    "    else:\n",
    "        a = 'large'\n",
    "    return a\n",
    "\n",
    "train['is_alone'] = [1 if i<2 else 0 for i in train.family_size]\n",
    "test['is_alone'] = [1 if i<2 else 0 for i in test.family_size]\n",
    "\n",
    "## Calculating fare based on family size. \n",
    "train['calculated_fare'] = train.Fare/train.family_size\n",
    "test['calculated_fare'] = test.Fare/test.family_size\n",
    "\n",
    "def fare_group(fare):\n",
    "    \"\"\"\n",
    "    This function creates a fare group based on the fare provided\n",
    "    \"\"\"\n",
    "    \n",
    "    a= ''\n",
    "    if fare <= 4:\n",
    "        a = 'Very_low'\n",
    "    elif fare <= 10:\n",
    "        a = 'low'\n",
    "    elif fare <= 20:\n",
    "        a = 'mid'\n",
    "    elif fare <= 45:\n",
    "        a = 'high'\n",
    "    else:\n",
    "        a = \"very_high\"\n",
    "    return a\n",
    "\n",
    "train['fare_group'] = train['calculated_fare'].map(fare_group)\n",
    "test['fare_group'] = test['calculated_fare'].map(fare_group)\n",
    "\n",
    "##AGE\n",
    "##Random forest regressor in this section to predict the missing age values. Let's do it\n"
   ]
  },
  {
   "cell_type": "code",
   "execution_count": 783,
   "metadata": {},
   "outputs": [],
   "source": [
    "cols_learn = ['Pclass',\n",
    " 'SibSp',\n",
    " 'Parch',\n",
    " 'Age',\n",
    " 'm_f',\n",
    " 'embark_num',\n",
    " 'name_len',\n",
    " 'Fare',\n",
    " 'cabin_bin','ticket_alpha']"
   ]
  },
  {
   "cell_type": "code",
   "execution_count": 787,
   "metadata": {},
   "outputs": [],
   "source": [
    "#dont use OneHot on cabin and Ticket, just use 0-1 if they have one\n",
    "\n",
    "X = train[cols_learn]\n",
    "X = X.merge(onehot_train_df,left_index=True,right_index=True)\n",
    "\n",
    "y = train['Survived']\n",
    "\n",
    "gs_test = test[cols_learn]\n",
    "gs_test = gs_test.merge(onehot_test_df,left_index=True,right_index=True)\n",
    "\n",
    "X.to_excel(file_loc+'X_processed.xlsx')\n",
    "y.to_excel(file_loc+'y_processed.xlsx',header=True)\n",
    "gs_test.to_excel(file_loc+'gs_test_processed.xlsx')"
   ]
  },
  {
   "cell_type": "code",
   "execution_count": 487,
   "metadata": {},
   "outputs": [
    {
     "data": {
      "text/plain": [
       "<matplotlib.axes._subplots.AxesSubplot at 0x1a1aa02c10>"
      ]
     },
     "execution_count": 487,
     "metadata": {},
     "output_type": "execute_result"
    },
    {
     "data": {
      "image/png": "[encoded data removed]",
      "text/plain": [
       "<Figure size 432x288 with 1 Axes>"
      ]
     },
     "metadata": {
      "needs_background": "light"
     },
     "output_type": "display_data"
    }
   ],
   "source": [
    "train['Fare'][train['cabin_alpha'] == 'B'].hist()"
   ]
  },
  {
   "cell_type": "code",
   "execution_count": 489,
   "metadata": {},
   "outputs": [
    {
     "data": {
      "text/plain": [
       "<matplotlib.axes._subplots.AxesSubplot at 0x1a18c5dc90>"
      ]
     },
     "execution_count": 489,
     "metadata": {},
     "output_type": "execute_result"
    },
    {
     "data": {
      "image/png": "[encoded data removed]",
      "text/plain": [
       "<Figure size 432x288 with 1 Axes>"
      ]
     },
     "metadata": {
      "needs_background": "light"
     },
     "output_type": "display_data"
    }
   ],
   "source": [
    "train['Parch'][train['cabin_alpha'] == 'B'].hist()"
   ]
  },
  {
   "cell_type": "code",
   "execution_count": null,
   "metadata": {},
   "outputs": [],
   "source": [
    "rel_cols = ['Pclass','m_f','Parch','name_len','cabin_bin','ticket_alpha']"
   ]
  },
  {
   "cell_type": "code",
   "execution_count": 416,
   "metadata": {},
   "outputs": [],
   "source": [
    "rel_cols = ['Pclass', 'Sex', 'SibSp', 'Parch']\n",
    "\n",
    "#fill missing age with average of sex, Sibsp, Parch, Pclass\n",
    "col = 'Age'\n",
    "for i in train.index:\n",
    "    if np.isnan(train[col].loc[i]):\n",
    "        #print('Age ',i)\n",
    "        train[col].loc[i] = train[(train[rel_cols[0]]==train[rel_cols[0]].loc[i])&(train[rel_cols[1]]==train[rel_cols[1]].loc[i])&(train[rel_cols[2]]==train[rel_cols[2]].loc[i])&(train[rel_cols[3]]==train[rel_cols[3]].loc[i])]['Age'].mean()\n",
    "        if np.isnan(train[col].loc[i]):\n",
    "            train[col].loc[i] = train[col].mean()\n",
    "\n",
    "\n",
    "\n",
    "#fill missing age with average of sex, Sibsp, Parch, Pclass\n",
    "col = 'Age'\n",
    "for i in test.index:\n",
    "    if np.isnan(test[col].loc[i]):\n",
    "        #print('Age ',i)\n",
    "        test[col].loc[i] = test[(test[rel_cols[0]]==test[rel_cols[0]].loc[i])&(test[rel_cols[1]]==test[rel_cols[1]].loc[i])&(test[rel_cols[2]]==test[rel_cols[2]].loc[i])&(test[rel_cols[3]]==test[rel_cols[3]].loc[i])]['Age'].mean()\n",
    "        if np.isnan(test[col].loc[i]):\n",
    "            test[col].loc[i] = test[col].mean()\n",
    "            \n",
    "#fill missing embarked with mode of sex, Sibsp, Parch, Pclass\n",
    "#use code above, filling for now with correct answer\n",
    "tgt_col = 'Embarked'\n",
    "rel_cols = ['Pclass', 'Sex', 'SibSp', 'Parch','Fare']\n",
    "train = fill_by_mode(train,tgt_col,rel_cols)\n",
    "\n",
    "        \n",
    "tgt_col = 'Fare'\n",
    "rel_cols = ['Pclass', 'Sex', 'SibSp', 'Parch','Embarked']    \n",
    "test['Fare'].fillna(0,inplace=True)\n",
    "\n",
    "#train['Cabin'].fillna('None',inplace=True)\n",
    "#test['Cabin'].fillna('None',inplace=True)"
   ]
  },
  {
   "cell_type": "code",
   "execution_count": 344,
   "metadata": {},
   "outputs": [
    {
     "name": "stdout",
     "output_type": "stream",
     "text": [
      "na in train  Cabin % of total:  0.7710437710437711\n",
      "na in test  Cabin % of total:  0.7822966507177034\n"
     ]
    }
   ],
   "source": [
    "for col in train:\n",
    "    if train[col].isna().any():\n",
    "        print('na in train ',col, '% of total: ',len(train[train[col].isna()])/len(train[col]))\n",
    "        \n",
    "for col in test:\n",
    "    if test[col].isna().any():\n",
    "        print('na in test ',col, '% of total: ',len(test[test[col].isna()])/len(test[col]))"
   ]
  },
  {
   "cell_type": "code",
   "execution_count": 277,
   "metadata": {},
   "outputs": [],
   "source": [
    "#ONEHOT encode the Ticket column\n",
    "from sklearn.preprocessing import OneHotEncoder\n",
    "enc = OneHotEncoder(handle_unknown='ignore')\n",
    "\n",
    "cat_cols = 'Ticket'\n",
    "x = list(train[cat_cols].unique().reshape(-1,1))\n",
    "\n",
    "#cat_cols = ['Sex','Embarked','Ticket','Cabin']\n",
    "#x = train[cat_cols].values\n",
    "enc.fit(x)\n",
    "onehot = enc.transform(train[cat_cols].values.reshape(-1,1)).toarray()\n",
    "\n",
    "#put onehot into df to later merge with data\n",
    "onehot_train_tkt = pd.DataFrame(data=onehot,columns=enc.categories_[0])\n",
    "onehot_train_tkt.set_index(train.index,inplace=True)\n",
    "\n",
    "onehot = enc.transform(test[cat_cols].values.reshape(-1,1)).toarray()\n",
    "\n",
    "#put onehot into df to later merge with data\n",
    "onehot_test_tkt = pd.DataFrame(data=onehot,columns=enc.categories_[0])\n",
    "onehot_test_tkt.set_index(test.index,inplace=True)"
   ]
  },
  {
   "cell_type": "code",
   "execution_count": 278,
   "metadata": {},
   "outputs": [
    {
     "data": {
      "text/plain": [
       "['Pclass', 'SibSp', 'Parch', 'm_f', 'embark_num', 'name_len']"
      ]
     },
     "execution_count": 278,
     "metadata": {},
     "output_type": "execute_result"
    }
   ],
   "source": [
    "columns"
   ]
  },
  {
   "cell_type": "code",
   "execution_count": 281,
   "metadata": {},
   "outputs": [],
   "source": [
    "X = train[columns]\n",
    "X = X.merge(onehot_train_df,left_index=True,right_index=True)\n",
    "X = X.merge(onehot_train_tkt,left_index=True,right_index=True)\n",
    "\n",
    "y = train['Survived']\n",
    "\n",
    "gs_test = test[columns]\n",
    "\n",
    "gs_test = gs_test.merge(onehot_test_df,left_index=True,right_index=True)\n",
    "gs_test = gs_test.merge(onehot_test_tkt,left_index=True,right_index=True)"
   ]
  },
  {
   "cell_type": "code",
   "execution_count": 285,
   "metadata": {},
   "outputs": [
    {
     "data": {
      "text/plain": [
       "True"
      ]
     },
     "execution_count": 285,
     "metadata": {},
     "output_type": "execute_result"
    }
   ],
   "source": [
    "X.shape[1] == gs_test.shape[1]"
   ]
  },
  {
   "cell_type": "code",
   "execution_count": 374,
   "metadata": {},
   "outputs": [
    {
     "data": {
      "text/plain": [
       "['Pclass', 'SibSp', 'Parch', 'Age', 'm_f', 'embark_num', 'name_len']"
      ]
     },
     "execution_count": 374,
     "metadata": {},
     "output_type": "execute_result"
    }
   ],
   "source": [
    "columns"
   ]
  },
  {
   "cell_type": "code",
   "execution_count": 375,
   "metadata": {},
   "outputs": [
    {
     "data": {
      "text/plain": [
       "Index(['Survived', 'Pclass', 'Name', 'Sex', 'Age', 'SibSp', 'Parch', 'Ticket',\n",
       "       'Fare', 'Cabin', 'Embarked', 'm_f', 'embark_num', 'name_len',\n",
       "       'cabin_bin', 'ticket_slash', 'ticket_dot', 'ticket_space',\n",
       "       'ticket_alpha'],\n",
       "      dtype='object')"
      ]
     },
     "execution_count": 375,
     "metadata": {},
     "output_type": "execute_result"
    }
   ],
   "source": [
    "train.columns"
   ]
  },
  {
   "cell_type": "code",
   "execution_count": 377,
   "metadata": {},
   "outputs": [
    {
     "data": {
      "text/plain": [
       "['Pclass',\n",
       " 'SibSp',\n",
       " 'Parch',\n",
       " 'Age',\n",
       " 'm_f',\n",
       " 'embark_num',\n",
       " 'name_len',\n",
       " 'Fare',\n",
       " 'Fare',\n",
       " 'cabin_bin',\n",
       " 'ticket_slash',\n",
       " 'ticket_dot',\n",
       " 'ticket_space',\n",
       " 'ticket_alpha']"
      ]
     },
     "execution_count": 377,
     "metadata": {},
     "output_type": "execute_result"
    }
   ],
   "source": [
    "columns.append('Fare')\n",
    "columns.append('cabin_bin')\n",
    "columns.append('ticket_slash')\n",
    "columns.append('ticket_dot')\n",
    "columns.append('ticket_space')\n",
    "columns.append('ticket_alpha')\n",
    "columns"
   ]
  },
  {
   "cell_type": "code",
   "execution_count": 382,
   "metadata": {},
   "outputs": [
    {
     "data": {
      "text/plain": [
       "['Pclass',\n",
       " 'SibSp',\n",
       " 'Parch',\n",
       " 'Age',\n",
       " 'm_f',\n",
       " 'embark_num',\n",
       " 'name_len',\n",
       " 'Fare',\n",
       " 'cabin_bin',\n",
       " 'ticket_slash',\n",
       " 'ticket_dot',\n",
       " 'ticket_space',\n",
       " 'ticket_alpha']"
      ]
     },
     "execution_count": 382,
     "metadata": {},
     "output_type": "execute_result"
    }
   ],
   "source": [
    "columns"
   ]
  },
  {
   "cell_type": "code",
   "execution_count": 318,
   "metadata": {},
   "outputs": [
    {
     "data": {
      "text/html": [
       "<div>\n",
       "<style scoped>\n",
       "    .dataframe tbody tr th:only-of-type {\n",
       "        vertical-align: middle;\n",
       "    }\n",
       "\n",
       "    .dataframe tbody tr th {\n",
       "        vertical-align: top;\n",
       "    }\n",
       "\n",
       "    .dataframe thead th {\n",
       "        text-align: right;\n",
       "    }\n",
       "</style>\n",
       "<table border=\"1\" class=\"dataframe\">\n",
       "  <thead>\n",
       "    <tr style=\"text-align: right;\">\n",
       "      <th></th>\n",
       "      <th>Pclass</th>\n",
       "      <th>SibSp</th>\n",
       "      <th>Parch</th>\n",
       "      <th>Age</th>\n",
       "      <th>m_f</th>\n",
       "      <th>embark_num</th>\n",
       "      <th>name_len</th>\n",
       "    </tr>\n",
       "    <tr>\n",
       "      <th>PassengerId</th>\n",
       "      <th></th>\n",
       "      <th></th>\n",
       "      <th></th>\n",
       "      <th></th>\n",
       "      <th></th>\n",
       "      <th></th>\n",
       "      <th></th>\n",
       "    </tr>\n",
       "  </thead>\n",
       "  <tbody>\n",
       "    <tr>\n",
       "      <td>1</td>\n",
       "      <td>3</td>\n",
       "      <td>1</td>\n",
       "      <td>0</td>\n",
       "      <td>22.000000</td>\n",
       "      <td>0</td>\n",
       "      <td>1</td>\n",
       "      <td>0.280488</td>\n",
       "    </tr>\n",
       "    <tr>\n",
       "      <td>2</td>\n",
       "      <td>1</td>\n",
       "      <td>1</td>\n",
       "      <td>0</td>\n",
       "      <td>38.000000</td>\n",
       "      <td>1</td>\n",
       "      <td>2</td>\n",
       "      <td>0.621951</td>\n",
       "    </tr>\n",
       "    <tr>\n",
       "      <td>3</td>\n",
       "      <td>3</td>\n",
       "      <td>0</td>\n",
       "      <td>0</td>\n",
       "      <td>26.000000</td>\n",
       "      <td>1</td>\n",
       "      <td>1</td>\n",
       "      <td>0.268293</td>\n",
       "    </tr>\n",
       "    <tr>\n",
       "      <td>4</td>\n",
       "      <td>1</td>\n",
       "      <td>1</td>\n",
       "      <td>0</td>\n",
       "      <td>35.000000</td>\n",
       "      <td>1</td>\n",
       "      <td>1</td>\n",
       "      <td>0.536585</td>\n",
       "    </tr>\n",
       "    <tr>\n",
       "      <td>5</td>\n",
       "      <td>3</td>\n",
       "      <td>0</td>\n",
       "      <td>0</td>\n",
       "      <td>35.000000</td>\n",
       "      <td>0</td>\n",
       "      <td>1</td>\n",
       "      <td>0.292683</td>\n",
       "    </tr>\n",
       "    <tr>\n",
       "      <td>...</td>\n",
       "      <td>...</td>\n",
       "      <td>...</td>\n",
       "      <td>...</td>\n",
       "      <td>...</td>\n",
       "      <td>...</td>\n",
       "      <td>...</td>\n",
       "      <td>...</td>\n",
       "    </tr>\n",
       "    <tr>\n",
       "      <td>887</td>\n",
       "      <td>2</td>\n",
       "      <td>0</td>\n",
       "      <td>0</td>\n",
       "      <td>27.000000</td>\n",
       "      <td>0</td>\n",
       "      <td>1</td>\n",
       "      <td>0.256098</td>\n",
       "    </tr>\n",
       "    <tr>\n",
       "      <td>888</td>\n",
       "      <td>1</td>\n",
       "      <td>0</td>\n",
       "      <td>0</td>\n",
       "      <td>19.000000</td>\n",
       "      <td>1</td>\n",
       "      <td>1</td>\n",
       "      <td>0.341463</td>\n",
       "    </tr>\n",
       "    <tr>\n",
       "      <td>889</td>\n",
       "      <td>3</td>\n",
       "      <td>1</td>\n",
       "      <td>2</td>\n",
       "      <td>29.684771</td>\n",
       "      <td>1</td>\n",
       "      <td>1</td>\n",
       "      <td>0.487805</td>\n",
       "    </tr>\n",
       "    <tr>\n",
       "      <td>890</td>\n",
       "      <td>1</td>\n",
       "      <td>0</td>\n",
       "      <td>0</td>\n",
       "      <td>26.000000</td>\n",
       "      <td>0</td>\n",
       "      <td>2</td>\n",
       "      <td>0.256098</td>\n",
       "    </tr>\n",
       "    <tr>\n",
       "      <td>891</td>\n",
       "      <td>3</td>\n",
       "      <td>0</td>\n",
       "      <td>0</td>\n",
       "      <td>32.000000</td>\n",
       "      <td>0</td>\n",
       "      <td>3</td>\n",
       "      <td>0.231707</td>\n",
       "    </tr>\n",
       "  </tbody>\n",
       "</table>\n",
       "<p>891 rows × 7 columns</p>\n",
       "</div>"
      ],
      "text/plain": [
       "             Pclass  SibSp  Parch        Age  m_f  embark_num  name_len\n",
       "PassengerId                                                            \n",
       "1                 3      1      0  22.000000    0           1  0.280488\n",
       "2                 1      1      0  38.000000    1           2  0.621951\n",
       "3                 3      0      0  26.000000    1           1  0.268293\n",
       "4                 1      1      0  35.000000    1           1  0.536585\n",
       "5                 3      0      0  35.000000    0           1  0.292683\n",
       "...             ...    ...    ...        ...  ...         ...       ...\n",
       "887               2      0      0  27.000000    0           1  0.256098\n",
       "888               1      0      0  19.000000    1           1  0.341463\n",
       "889               3      1      2  29.684771    1           1  0.487805\n",
       "890               1      0      0  26.000000    0           2  0.256098\n",
       "891               3      0      0  32.000000    0           3  0.231707\n",
       "\n",
       "[891 rows x 7 columns]"
      ]
     },
     "execution_count": 318,
     "metadata": {},
     "output_type": "execute_result"
    }
   ],
   "source": [
    "X"
   ]
  },
  {
   "cell_type": "code",
   "execution_count": 320,
   "metadata": {},
   "outputs": [],
   "source": [
    "#write X, y and test to csv for use later\n",
    "\n"
   ]
  },
  {
   "cell_type": "code",
   "execution_count": 96,
   "metadata": {},
   "outputs": [],
   "source": [
    "X = train[columns]"
   ]
  },
  {
   "cell_type": "code",
   "execution_count": 120,
   "metadata": {},
   "outputs": [
    {
     "data": {
      "text/plain": [
       "<matplotlib.axes._subplots.AxesSubplot at 0x1a1bf409d0>"
      ]
     },
     "execution_count": 120,
     "metadata": {},
     "output_type": "execute_result"
    },
    {
     "data": {
      "image/png": "[encoded data removed]",
      "text/plain": [
       "<Figure size 432x288 with 1 Axes>"
      ]
     },
     "metadata": {
      "needs_background": "light"
     },
     "output_type": "display_data"
    }
   ],
   "source": [
    "train['Survived'][(train['Age']<10) & (train['Sex']=='female')].hist()"
   ]
  },
  {
   "cell_type": "code",
   "execution_count": 122,
   "metadata": {},
   "outputs": [
    {
     "data": {
      "text/plain": [
       "<matplotlib.axes._subplots.AxesSubplot at 0x1a1bec86d0>"
      ]
     },
     "execution_count": 122,
     "metadata": {},
     "output_type": "execute_result"
    },
    {
     "data": {
      "image/png": "[encoded data removed]",
      "text/plain": [
       "<Figure size 432x288 with 1 Axes>"
      ]
     },
     "metadata": {
      "needs_background": "light"
     },
     "output_type": "display_data"
    }
   ],
   "source": [
    "train['Survived'][train['Sex']=='female'].hist()"
   ]
  },
  {
   "cell_type": "code",
   "execution_count": 104,
   "metadata": {},
   "outputs": [
    {
     "name": "stdout",
     "output_type": "stream",
     "text": [
      "age_norm\n"
     ]
    },
    {
     "data": {
      "text/plain": [
       "<matplotlib.axes._subplots.AxesSubplot at 0x1a1a55a7d0>"
      ]
     },
     "execution_count": 104,
     "metadata": {},
     "output_type": "execute_result"
    },
    {
     "data": {
      "image/png": "[encoded data removed]",
      "text/plain": [
       "<Figure size 432x288 with 1 Axes>"
      ]
     },
     "metadata": {
      "needs_background": "light"
     },
     "output_type": "display_data"
    }
   ],
   "source": [
    "n=8\n",
    "print(X.columns[n])\n",
    "X[X.columns[n]].hist()"
   ]
  },
  {
   "cell_type": "code",
   "execution_count": 103,
   "metadata": {},
   "outputs": [
    {
     "name": "stdout",
     "output_type": "stream",
     "text": [
      "fare_norm\n"
     ]
    },
    {
     "data": {
      "text/plain": [
       "<matplotlib.axes._subplots.AxesSubplot at 0x1a1a328450>"
      ]
     },
     "execution_count": 103,
     "metadata": {},
     "output_type": "execute_result"
    },
    {
     "data": {
      "image/png": "[encoded data removed]",
      "text/plain": [
       "<Figure size 432x288 with 1 Axes>"
      ]
     },
     "metadata": {
      "needs_background": "light"
     },
     "output_type": "display_data"
    }
   ],
   "source": [
    "n=7\n",
    "print(X.columns[n])\n",
    "X[X.columns[n]].hist()"
   ]
  },
  {
   "cell_type": "code",
   "execution_count": 102,
   "metadata": {},
   "outputs": [
    {
     "name": "stdout",
     "output_type": "stream",
     "text": [
      "name_len\n"
     ]
    },
    {
     "data": {
      "text/plain": [
       "<matplotlib.axes._subplots.AxesSubplot at 0x1a1a261b10>"
      ]
     },
     "execution_count": 102,
     "metadata": {},
     "output_type": "execute_result"
    },
    {
     "data": {
      "image/png": "[encoded data removed]",
      "text/plain": [
       "<Figure size 432x288 with 1 Axes>"
      ]
     },
     "metadata": {
      "needs_background": "light"
     },
     "output_type": "display_data"
    }
   ],
   "source": [
    "n=6\n",
    "print(X.columns[n])\n",
    "X[X.columns[n]].hist()"
   ]
  },
  {
   "cell_type": "code",
   "execution_count": 101,
   "metadata": {},
   "outputs": [
    {
     "name": "stdout",
     "output_type": "stream",
     "text": [
      "embark_num\n"
     ]
    },
    {
     "data": {
      "text/plain": [
       "<matplotlib.axes._subplots.AxesSubplot at 0x1a19834090>"
      ]
     },
     "execution_count": 101,
     "metadata": {},
     "output_type": "execute_result"
    },
    {
     "data": {
      "image/png": "[encoded data removed]",
      "text/plain": [
       "<Figure size 432x288 with 1 Axes>"
      ]
     },
     "metadata": {
      "needs_background": "light"
     },
     "output_type": "display_data"
    }
   ],
   "source": [
    "n=5\n",
    "print(X.columns[n])\n",
    "X[X.columns[n]].hist()"
   ]
  },
  {
   "cell_type": "code",
   "execution_count": 100,
   "metadata": {},
   "outputs": [
    {
     "name": "stdout",
     "output_type": "stream",
     "text": [
      "m_f\n"
     ]
    },
    {
     "data": {
      "text/plain": [
       "<matplotlib.axes._subplots.AxesSubplot at 0x1a1c9d6050>"
      ]
     },
     "execution_count": 100,
     "metadata": {},
     "output_type": "execute_result"
    },
    {
     "data": {
      "image/png": "[encoded data removed]",
      "text/plain": [
       "<Figure size 432x288 with 1 Axes>"
      ]
     },
     "metadata": {
      "needs_background": "light"
     },
     "output_type": "display_data"
    }
   ],
   "source": [
    "n=4\n",
    "print(X.columns[n])\n",
    "X[X.columns[n]].hist()"
   ]
  },
  {
   "cell_type": "code",
   "execution_count": 93,
   "metadata": {},
   "outputs": [
    {
     "name": "stdout",
     "output_type": "stream",
     "text": [
      "Parch\n"
     ]
    },
    {
     "data": {
      "text/plain": [
       "<matplotlib.axes._subplots.AxesSubplot at 0x1a1c5607d0>"
      ]
     },
     "execution_count": 93,
     "metadata": {},
     "output_type": "execute_result"
    },
    {
     "data": {
      "image/png": "[encoded data removed]",
      "text/plain": [
       "<Figure size 432x288 with 1 Axes>"
      ]
     },
     "metadata": {
      "needs_background": "light"
     },
     "output_type": "display_data"
    }
   ],
   "source": [
    "n=3\n",
    "print(X.columns[n])\n",
    "X[X.columns[n]].hist()"
   ]
  },
  {
   "cell_type": "code",
   "execution_count": 94,
   "metadata": {},
   "outputs": [
    {
     "name": "stdout",
     "output_type": "stream",
     "text": [
      "SibSp\n"
     ]
    },
    {
     "data": {
      "text/plain": [
       "<matplotlib.axes._subplots.AxesSubplot at 0x1a1c662590>"
      ]
     },
     "execution_count": 94,
     "metadata": {},
     "output_type": "execute_result"
    },
    {
     "data": {
      "image/png": "[encoded data removed]",
      "text/plain": [
       "<Figure size 432x288 with 1 Axes>"
      ]
     },
     "metadata": {
      "needs_background": "light"
     },
     "output_type": "display_data"
    }
   ],
   "source": [
    "n=2\n",
    "print(X.columns[n])\n",
    "X[X.columns[n]].hist()"
   ]
  },
  {
   "cell_type": "code",
   "execution_count": 95,
   "metadata": {},
   "outputs": [
    {
     "name": "stdout",
     "output_type": "stream",
     "text": [
      "Pclass\n"
     ]
    },
    {
     "data": {
      "text/plain": [
       "<matplotlib.axes._subplots.AxesSubplot at 0x1a180c2190>"
      ]
     },
     "execution_count": 95,
     "metadata": {},
     "output_type": "execute_result"
    },
    {
     "data": {
      "image/png": "[encoded data removed]",
      "text/plain": [
       "<Figure size 432x288 with 1 Axes>"
      ]
     },
     "metadata": {
      "needs_background": "light"
     },
     "output_type": "display_data"
    }
   ],
   "source": [
    "n=1\n",
    "print(X.columns[n])\n",
    "X[X.columns[n]].hist()"
   ]
  },
  {
   "cell_type": "code",
   "execution_count": null,
   "metadata": {},
   "outputs": [],
   "source": []
  },
  {
   "cell_type": "code",
   "execution_count": null,
   "metadata": {},
   "outputs": [],
   "source": []
  },
  {
   "cell_type": "markdown",
   "metadata": {},
   "source": [
    "# Visualizations"
   ]
  },
  {
   "cell_type": "code",
   "execution_count": 287,
   "metadata": {},
   "outputs": [
    {
     "data": {
      "text/html": [
       "<div>\n",
       "<style scoped>\n",
       "    .dataframe tbody tr th:only-of-type {\n",
       "        vertical-align: middle;\n",
       "    }\n",
       "\n",
       "    .dataframe tbody tr th {\n",
       "        vertical-align: top;\n",
       "    }\n",
       "\n",
       "    .dataframe thead th {\n",
       "        text-align: right;\n",
       "    }\n",
       "</style>\n",
       "<table border=\"1\" class=\"dataframe\">\n",
       "  <thead>\n",
       "    <tr style=\"text-align: right;\">\n",
       "      <th></th>\n",
       "      <th>Survived</th>\n",
       "      <th>Pclass</th>\n",
       "      <th>Name</th>\n",
       "      <th>Sex</th>\n",
       "      <th>Age</th>\n",
       "      <th>SibSp</th>\n",
       "      <th>Parch</th>\n",
       "      <th>Ticket</th>\n",
       "      <th>Fare</th>\n",
       "      <th>Cabin</th>\n",
       "      <th>Embarked</th>\n",
       "      <th>m_f</th>\n",
       "      <th>embark_num</th>\n",
       "      <th>name_len</th>\n",
       "    </tr>\n",
       "    <tr>\n",
       "      <th>PassengerId</th>\n",
       "      <th></th>\n",
       "      <th></th>\n",
       "      <th></th>\n",
       "      <th></th>\n",
       "      <th></th>\n",
       "      <th></th>\n",
       "      <th></th>\n",
       "      <th></th>\n",
       "      <th></th>\n",
       "      <th></th>\n",
       "      <th></th>\n",
       "      <th></th>\n",
       "      <th></th>\n",
       "      <th></th>\n",
       "    </tr>\n",
       "  </thead>\n",
       "  <tbody>\n",
       "    <tr>\n",
       "      <td>1</td>\n",
       "      <td>0</td>\n",
       "      <td>3</td>\n",
       "      <td>Braund, Mr. Owen Harris</td>\n",
       "      <td>male</td>\n",
       "      <td>22.000000</td>\n",
       "      <td>1</td>\n",
       "      <td>0</td>\n",
       "      <td>A/5 21171</td>\n",
       "      <td>7.2500</td>\n",
       "      <td>None</td>\n",
       "      <td>S</td>\n",
       "      <td>0</td>\n",
       "      <td>1</td>\n",
       "      <td>0.280488</td>\n",
       "    </tr>\n",
       "    <tr>\n",
       "      <td>2</td>\n",
       "      <td>1</td>\n",
       "      <td>1</td>\n",
       "      <td>Cumings, Mrs. John Bradley (Florence Briggs Th...</td>\n",
       "      <td>female</td>\n",
       "      <td>38.000000</td>\n",
       "      <td>1</td>\n",
       "      <td>0</td>\n",
       "      <td>PC 17599</td>\n",
       "      <td>71.2833</td>\n",
       "      <td>C85</td>\n",
       "      <td>C</td>\n",
       "      <td>1</td>\n",
       "      <td>2</td>\n",
       "      <td>0.621951</td>\n",
       "    </tr>\n",
       "    <tr>\n",
       "      <td>3</td>\n",
       "      <td>1</td>\n",
       "      <td>3</td>\n",
       "      <td>Heikkinen, Miss. Laina</td>\n",
       "      <td>female</td>\n",
       "      <td>26.000000</td>\n",
       "      <td>0</td>\n",
       "      <td>0</td>\n",
       "      <td>STON/O2. 3101282</td>\n",
       "      <td>7.9250</td>\n",
       "      <td>None</td>\n",
       "      <td>S</td>\n",
       "      <td>1</td>\n",
       "      <td>1</td>\n",
       "      <td>0.268293</td>\n",
       "    </tr>\n",
       "    <tr>\n",
       "      <td>4</td>\n",
       "      <td>1</td>\n",
       "      <td>1</td>\n",
       "      <td>Futrelle, Mrs. Jacques Heath (Lily May Peel)</td>\n",
       "      <td>female</td>\n",
       "      <td>35.000000</td>\n",
       "      <td>1</td>\n",
       "      <td>0</td>\n",
       "      <td>113803</td>\n",
       "      <td>53.1000</td>\n",
       "      <td>C123</td>\n",
       "      <td>S</td>\n",
       "      <td>1</td>\n",
       "      <td>1</td>\n",
       "      <td>0.536585</td>\n",
       "    </tr>\n",
       "    <tr>\n",
       "      <td>5</td>\n",
       "      <td>0</td>\n",
       "      <td>3</td>\n",
       "      <td>Allen, Mr. William Henry</td>\n",
       "      <td>male</td>\n",
       "      <td>35.000000</td>\n",
       "      <td>0</td>\n",
       "      <td>0</td>\n",
       "      <td>373450</td>\n",
       "      <td>8.0500</td>\n",
       "      <td>None</td>\n",
       "      <td>S</td>\n",
       "      <td>0</td>\n",
       "      <td>1</td>\n",
       "      <td>0.292683</td>\n",
       "    </tr>\n",
       "    <tr>\n",
       "      <td>...</td>\n",
       "      <td>...</td>\n",
       "      <td>...</td>\n",
       "      <td>...</td>\n",
       "      <td>...</td>\n",
       "      <td>...</td>\n",
       "      <td>...</td>\n",
       "      <td>...</td>\n",
       "      <td>...</td>\n",
       "      <td>...</td>\n",
       "      <td>...</td>\n",
       "      <td>...</td>\n",
       "      <td>...</td>\n",
       "      <td>...</td>\n",
       "      <td>...</td>\n",
       "    </tr>\n",
       "    <tr>\n",
       "      <td>887</td>\n",
       "      <td>0</td>\n",
       "      <td>2</td>\n",
       "      <td>Montvila, Rev. Juozas</td>\n",
       "      <td>male</td>\n",
       "      <td>27.000000</td>\n",
       "      <td>0</td>\n",
       "      <td>0</td>\n",
       "      <td>211536</td>\n",
       "      <td>13.0000</td>\n",
       "      <td>None</td>\n",
       "      <td>S</td>\n",
       "      <td>0</td>\n",
       "      <td>1</td>\n",
       "      <td>0.256098</td>\n",
       "    </tr>\n",
       "    <tr>\n",
       "      <td>888</td>\n",
       "      <td>1</td>\n",
       "      <td>1</td>\n",
       "      <td>Graham, Miss. Margaret Edith</td>\n",
       "      <td>female</td>\n",
       "      <td>19.000000</td>\n",
       "      <td>0</td>\n",
       "      <td>0</td>\n",
       "      <td>112053</td>\n",
       "      <td>30.0000</td>\n",
       "      <td>B42</td>\n",
       "      <td>S</td>\n",
       "      <td>1</td>\n",
       "      <td>1</td>\n",
       "      <td>0.341463</td>\n",
       "    </tr>\n",
       "    <tr>\n",
       "      <td>889</td>\n",
       "      <td>0</td>\n",
       "      <td>3</td>\n",
       "      <td>Johnston, Miss. Catherine Helen \"Carrie\"</td>\n",
       "      <td>female</td>\n",
       "      <td>29.684771</td>\n",
       "      <td>1</td>\n",
       "      <td>2</td>\n",
       "      <td>W./C. 6607</td>\n",
       "      <td>23.4500</td>\n",
       "      <td>None</td>\n",
       "      <td>S</td>\n",
       "      <td>1</td>\n",
       "      <td>1</td>\n",
       "      <td>0.487805</td>\n",
       "    </tr>\n",
       "    <tr>\n",
       "      <td>890</td>\n",
       "      <td>1</td>\n",
       "      <td>1</td>\n",
       "      <td>Behr, Mr. Karl Howell</td>\n",
       "      <td>male</td>\n",
       "      <td>26.000000</td>\n",
       "      <td>0</td>\n",
       "      <td>0</td>\n",
       "      <td>111369</td>\n",
       "      <td>30.0000</td>\n",
       "      <td>C148</td>\n",
       "      <td>C</td>\n",
       "      <td>0</td>\n",
       "      <td>2</td>\n",
       "      <td>0.256098</td>\n",
       "    </tr>\n",
       "    <tr>\n",
       "      <td>891</td>\n",
       "      <td>0</td>\n",
       "      <td>3</td>\n",
       "      <td>Dooley, Mr. Patrick</td>\n",
       "      <td>male</td>\n",
       "      <td>32.000000</td>\n",
       "      <td>0</td>\n",
       "      <td>0</td>\n",
       "      <td>370376</td>\n",
       "      <td>7.7500</td>\n",
       "      <td>None</td>\n",
       "      <td>Q</td>\n",
       "      <td>0</td>\n",
       "      <td>3</td>\n",
       "      <td>0.231707</td>\n",
       "    </tr>\n",
       "  </tbody>\n",
       "</table>\n",
       "<p>891 rows × 14 columns</p>\n",
       "</div>"
      ],
      "text/plain": [
       "             Survived  Pclass  \\\n",
       "PassengerId                     \n",
       "1                   0       3   \n",
       "2                   1       1   \n",
       "3                   1       3   \n",
       "4                   1       1   \n",
       "5                   0       3   \n",
       "...               ...     ...   \n",
       "887                 0       2   \n",
       "888                 1       1   \n",
       "889                 0       3   \n",
       "890                 1       1   \n",
       "891                 0       3   \n",
       "\n",
       "                                                          Name     Sex  \\\n",
       "PassengerId                                                              \n",
       "1                                      Braund, Mr. Owen Harris    male   \n",
       "2            Cumings, Mrs. John Bradley (Florence Briggs Th...  female   \n",
       "3                                       Heikkinen, Miss. Laina  female   \n",
       "4                 Futrelle, Mrs. Jacques Heath (Lily May Peel)  female   \n",
       "5                                     Allen, Mr. William Henry    male   \n",
       "...                                                        ...     ...   \n",
       "887                                      Montvila, Rev. Juozas    male   \n",
       "888                               Graham, Miss. Margaret Edith  female   \n",
       "889                   Johnston, Miss. Catherine Helen \"Carrie\"  female   \n",
       "890                                      Behr, Mr. Karl Howell    male   \n",
       "891                                        Dooley, Mr. Patrick    male   \n",
       "\n",
       "                   Age  SibSp  Parch            Ticket     Fare Cabin  \\\n",
       "PassengerId                                                             \n",
       "1            22.000000      1      0         A/5 21171   7.2500  None   \n",
       "2            38.000000      1      0          PC 17599  71.2833   C85   \n",
       "3            26.000000      0      0  STON/O2. 3101282   7.9250  None   \n",
       "4            35.000000      1      0            113803  53.1000  C123   \n",
       "5            35.000000      0      0            373450   8.0500  None   \n",
       "...                ...    ...    ...               ...      ...   ...   \n",
       "887          27.000000      0      0            211536  13.0000  None   \n",
       "888          19.000000      0      0            112053  30.0000   B42   \n",
       "889          29.684771      1      2        W./C. 6607  23.4500  None   \n",
       "890          26.000000      0      0            111369  30.0000  C148   \n",
       "891          32.000000      0      0            370376   7.7500  None   \n",
       "\n",
       "            Embarked  m_f  embark_num  name_len  \n",
       "PassengerId                                      \n",
       "1                  S    0           1  0.280488  \n",
       "2                  C    1           2  0.621951  \n",
       "3                  S    1           1  0.268293  \n",
       "4                  S    1           1  0.536585  \n",
       "5                  S    0           1  0.292683  \n",
       "...              ...  ...         ...       ...  \n",
       "887                S    0           1  0.256098  \n",
       "888                S    1           1  0.341463  \n",
       "889                S    1           1  0.487805  \n",
       "890                C    0           2  0.256098  \n",
       "891                Q    0           3  0.231707  \n",
       "\n",
       "[891 rows x 14 columns]"
      ]
     },
     "execution_count": 287,
     "metadata": {},
     "output_type": "execute_result"
    }
   ],
   "source": [
    "init_train"
   ]
  },
  {
   "cell_type": "code",
   "execution_count": 294,
   "metadata": {},
   "outputs": [],
   "source": [
    "max_list = []\n",
    "cat_cols = ['Pclass','Sex','SibSp','Parch','Cabin','Embarked']\n",
    "for col in cat_cols:\n",
    "    max_list.append(len(init_train[col].unique()))"
   ]
  },
  {
   "cell_type": "code",
   "execution_count": 295,
   "metadata": {},
   "outputs": [
    {
     "data": {
      "text/plain": [
       "[3, 2, 7, 7, 148, 3]"
      ]
     },
     "execution_count": 295,
     "metadata": {},
     "output_type": "execute_result"
    }
   ],
   "source": [
    "max_list"
   ]
  },
  {
   "cell_type": "code",
   "execution_count": 311,
   "metadata": {},
   "outputs": [
    {
     "data": {
      "text/plain": [
       "Survived\n",
       "0    0.757637\n",
       "1    0.242363\n",
       "Name: Pclass, dtype: float64"
      ]
     },
     "execution_count": 311,
     "metadata": {},
     "output_type": "execute_result"
    }
   ],
   "source": [
    "init_train[init_train[col]==3].groupby('Survived').count()[col]/len(init_train[init_train[col]==3])"
   ]
  },
  {
   "cell_type": "code",
   "execution_count": 313,
   "metadata": {},
   "outputs": [
    {
     "name": "stdout",
     "output_type": "stream",
     "text": [
      "Pclass / 3\n",
      "Survived\n",
      "0    0.757637\n",
      "1    0.242363\n",
      "Name: Pclass, dtype: float64\n",
      "Pclass / 1\n",
      "Survived\n",
      "0    0.37037\n",
      "1    0.62963\n",
      "Name: Pclass, dtype: float64\n",
      "Pclass / 2\n",
      "Survived\n",
      "0    0.527174\n",
      "1    0.472826\n",
      "Name: Pclass, dtype: float64\n",
      "Sex / male\n",
      "Survived\n",
      "0    0.811092\n",
      "1    0.188908\n",
      "Name: Sex, dtype: float64\n",
      "Sex / female\n",
      "Survived\n",
      "0    0.257962\n",
      "1    0.742038\n",
      "Name: Sex, dtype: float64\n",
      "SibSp / 1\n",
      "Survived\n",
      "0    0.464115\n",
      "1    0.535885\n",
      "Name: SibSp, dtype: float64\n",
      "SibSp / 0\n",
      "Survived\n",
      "0    0.654605\n",
      "1    0.345395\n",
      "Name: SibSp, dtype: float64\n",
      "SibSp / 3\n",
      "Survived\n",
      "0    0.75\n",
      "1    0.25\n",
      "Name: SibSp, dtype: float64\n",
      "SibSp / 4\n",
      "Survived\n",
      "0    0.833333\n",
      "1    0.166667\n",
      "Name: SibSp, dtype: float64\n",
      "SibSp / 2\n",
      "Survived\n",
      "0    0.535714\n",
      "1    0.464286\n",
      "Name: SibSp, dtype: float64\n",
      "SibSp / 5\n",
      "Survived\n",
      "0    1.0\n",
      "Name: SibSp, dtype: float64\n",
      "SibSp / 8\n",
      "Survived\n",
      "0    1.0\n",
      "Name: SibSp, dtype: float64\n",
      "Parch / 0\n",
      "Survived\n",
      "0    0.656342\n",
      "1    0.343658\n",
      "Name: Parch, dtype: float64\n",
      "Parch / 1\n",
      "Survived\n",
      "0    0.449153\n",
      "1    0.550847\n",
      "Name: Parch, dtype: float64\n",
      "Parch / 2\n",
      "Survived\n",
      "0    0.5\n",
      "1    0.5\n",
      "Name: Parch, dtype: float64\n",
      "Parch / 5\n",
      "Survived\n",
      "0    0.8\n",
      "1    0.2\n",
      "Name: Parch, dtype: float64\n",
      "Parch / 3\n",
      "Survived\n",
      "0    0.4\n",
      "1    0.6\n",
      "Name: Parch, dtype: float64\n",
      "Parch / 4\n",
      "Survived\n",
      "0    1.0\n",
      "Name: Parch, dtype: float64\n",
      "Parch / 6\n",
      "Survived\n",
      "0    1.0\n",
      "Name: Parch, dtype: float64\n",
      "Cabin / None\n",
      "Survived\n",
      "0    0.700146\n",
      "1    0.299854\n",
      "Name: Cabin, dtype: float64\n",
      "Cabin / C85\n",
      "Survived\n",
      "1    1.0\n",
      "Name: Cabin, dtype: float64\n",
      "Cabin / C123\n",
      "Survived\n",
      "0    0.5\n",
      "1    0.5\n",
      "Name: Cabin, dtype: float64\n",
      "Cabin / E46\n",
      "Survived\n",
      "0    1.0\n",
      "Name: Cabin, dtype: float64\n",
      "Cabin / G6\n",
      "Survived\n",
      "0    0.5\n",
      "1    0.5\n",
      "Name: Cabin, dtype: float64\n",
      "Cabin / C103\n",
      "Survived\n",
      "1    1.0\n",
      "Name: Cabin, dtype: float64\n",
      "Cabin / D56\n",
      "Survived\n",
      "1    1.0\n",
      "Name: Cabin, dtype: float64\n",
      "Cabin / A6\n",
      "Survived\n",
      "1    1.0\n",
      "Name: Cabin, dtype: float64\n",
      "Cabin / C23 C25 C27\n",
      "Survived\n",
      "0    0.5\n",
      "1    0.5\n",
      "Name: Cabin, dtype: float64\n",
      "Cabin / B78\n",
      "Survived\n",
      "1    1.0\n",
      "Name: Cabin, dtype: float64\n",
      "Cabin / D33\n",
      "Survived\n",
      "1    1.0\n",
      "Name: Cabin, dtype: float64\n",
      "Cabin / B30\n",
      "Survived\n",
      "0    1.0\n",
      "Name: Cabin, dtype: float64\n",
      "Cabin / C52\n",
      "Survived\n",
      "1    1.0\n",
      "Name: Cabin, dtype: float64\n",
      "Cabin / B28\n",
      "Survived\n",
      "1    1.0\n",
      "Name: Cabin, dtype: float64\n",
      "Cabin / C83\n",
      "Survived\n",
      "0    0.5\n",
      "1    0.5\n",
      "Name: Cabin, dtype: float64\n",
      "Cabin / F33\n",
      "Survived\n",
      "1    1.0\n",
      "Name: Cabin, dtype: float64\n",
      "Cabin / F G73\n",
      "Survived\n",
      "0    1.0\n",
      "Name: Cabin, dtype: float64\n",
      "Cabin / E31\n",
      "Survived\n",
      "0    1.0\n",
      "Name: Cabin, dtype: float64\n",
      "Cabin / A5\n",
      "Survived\n",
      "0    1.0\n",
      "Name: Cabin, dtype: float64\n",
      "Cabin / D10 D12\n",
      "Survived\n",
      "1    1.0\n",
      "Name: Cabin, dtype: float64\n",
      "Cabin / D26\n",
      "Survived\n",
      "0    1.0\n",
      "Name: Cabin, dtype: float64\n",
      "Cabin / C110\n",
      "Survived\n",
      "0    1.0\n",
      "Name: Cabin, dtype: float64\n",
      "Cabin / B58 B60\n",
      "Survived\n",
      "0    0.5\n",
      "1    0.5\n",
      "Name: Cabin, dtype: float64\n",
      "Cabin / E101\n",
      "Survived\n",
      "1    1.0\n",
      "Name: Cabin, dtype: float64\n",
      "Cabin / F E69\n",
      "Survived\n",
      "1    1.0\n",
      "Name: Cabin, dtype: float64\n",
      "Cabin / D47\n",
      "Survived\n",
      "1    1.0\n",
      "Name: Cabin, dtype: float64\n",
      "Cabin / B86\n",
      "Survived\n",
      "0    1.0\n",
      "Name: Cabin, dtype: float64\n",
      "Cabin / F2\n",
      "Survived\n",
      "0    0.333333\n",
      "1    0.666667\n",
      "Name: Cabin, dtype: float64\n",
      "Cabin / C2\n",
      "Survived\n",
      "0    0.5\n",
      "1    0.5\n",
      "Name: Cabin, dtype: float64\n",
      "Cabin / E33\n",
      "Survived\n",
      "1    1.0\n",
      "Name: Cabin, dtype: float64\n",
      "Cabin / B19\n",
      "Survived\n",
      "0    1.0\n",
      "Name: Cabin, dtype: float64\n",
      "Cabin / A7\n",
      "Survived\n",
      "0    1.0\n",
      "Name: Cabin, dtype: float64\n",
      "Cabin / C49\n",
      "Survived\n",
      "0    1.0\n",
      "Name: Cabin, dtype: float64\n",
      "Cabin / F4\n",
      "Survived\n",
      "1    1.0\n",
      "Name: Cabin, dtype: float64\n",
      "Cabin / A32\n",
      "Survived\n",
      "0    1.0\n",
      "Name: Cabin, dtype: float64\n",
      "Cabin / B4\n",
      "Survived\n",
      "1    1.0\n",
      "Name: Cabin, dtype: float64\n",
      "Cabin / B80\n",
      "Survived\n",
      "1    1.0\n",
      "Name: Cabin, dtype: float64\n",
      "Cabin / A31\n",
      "Survived\n",
      "1    1.0\n",
      "Name: Cabin, dtype: float64\n",
      "Cabin / D36\n",
      "Survived\n",
      "1    1.0\n",
      "Name: Cabin, dtype: float64\n",
      "Cabin / D15\n",
      "Survived\n",
      "1    1.0\n",
      "Name: Cabin, dtype: float64\n",
      "Cabin / C93\n",
      "Survived\n",
      "1    1.0\n",
      "Name: Cabin, dtype: float64\n",
      "Cabin / C78\n",
      "Survived\n",
      "0    0.5\n",
      "1    0.5\n",
      "Name: Cabin, dtype: float64\n",
      "Cabin / D35\n",
      "Survived\n",
      "1    1.0\n",
      "Name: Cabin, dtype: float64\n",
      "Cabin / C87\n",
      "Survived\n",
      "0    1.0\n",
      "Name: Cabin, dtype: float64\n",
      "Cabin / B77\n",
      "Survived\n",
      "1    1.0\n",
      "Name: Cabin, dtype: float64\n",
      "Cabin / E67\n",
      "Survived\n",
      "0    0.5\n",
      "1    0.5\n",
      "Name: Cabin, dtype: float64\n",
      "Cabin / B94\n",
      "Survived\n",
      "0    1.0\n",
      "Name: Cabin, dtype: float64\n",
      "Cabin / C125\n",
      "Survived\n",
      "1    1.0\n",
      "Name: Cabin, dtype: float64\n",
      "Cabin / C99\n",
      "Survived\n",
      "1    1.0\n",
      "Name: Cabin, dtype: float64\n",
      "Cabin / C118\n",
      "Survived\n",
      "0    1.0\n",
      "Name: Cabin, dtype: float64\n",
      "Cabin / D7\n",
      "Survived\n",
      "1    1.0\n",
      "Name: Cabin, dtype: float64\n",
      "Cabin / A19\n",
      "Survived\n",
      "0    1.0\n",
      "Name: Cabin, dtype: float64\n",
      "Cabin / B49\n",
      "Survived\n",
      "1    1.0\n",
      "Name: Cabin, dtype: float64\n",
      "Cabin / D\n",
      "Survived\n",
      "0    0.333333\n",
      "1    0.666667\n",
      "Name: Cabin, dtype: float64\n",
      "Cabin / C22 C26\n",
      "Survived\n",
      "0    0.666667\n",
      "1    0.333333\n",
      "Name: Cabin, dtype: float64\n",
      "Cabin / C106\n",
      "Survived\n",
      "1    1.0\n",
      "Name: Cabin, dtype: float64\n",
      "Cabin / C65\n",
      "Survived\n",
      "0    0.5\n",
      "1    0.5\n",
      "Name: Cabin, dtype: float64\n",
      "Cabin / E36\n",
      "Survived\n",
      "1    1.0\n",
      "Name: Cabin, dtype: float64\n",
      "Cabin / C54\n",
      "Survived\n",
      "1    1.0\n",
      "Name: Cabin, dtype: float64\n",
      "Cabin / B57 B59 B63 B66\n",
      "Survived\n",
      "1    1.0\n",
      "Name: Cabin, dtype: float64\n",
      "Cabin / C7\n",
      "Survived\n",
      "1    1.0\n",
      "Name: Cabin, dtype: float64\n",
      "Cabin / E34\n",
      "Survived\n",
      "1    1.0\n",
      "Name: Cabin, dtype: float64\n",
      "Cabin / C32\n",
      "Survived\n",
      "1    1.0\n",
      "Name: Cabin, dtype: float64\n",
      "Cabin / B18\n",
      "Survived\n",
      "1    1.0\n",
      "Name: Cabin, dtype: float64\n",
      "Cabin / C124\n",
      "Survived\n",
      "0    1.0\n",
      "Name: Cabin, dtype: float64\n",
      "Cabin / C91\n",
      "Survived\n",
      "0    1.0\n",
      "Name: Cabin, dtype: float64\n",
      "Cabin / E40\n",
      "Survived\n",
      "1    1.0\n",
      "Name: Cabin, dtype: float64\n",
      "Cabin / T\n",
      "Survived\n",
      "0    1.0\n",
      "Name: Cabin, dtype: float64\n",
      "Cabin / C128\n",
      "Survived\n",
      "0    1.0\n",
      "Name: Cabin, dtype: float64\n",
      "Cabin / D37\n",
      "Survived\n",
      "1    1.0\n",
      "Name: Cabin, dtype: float64\n",
      "Cabin / B35\n",
      "Survived\n",
      "1    1.0\n",
      "Name: Cabin, dtype: float64\n",
      "Cabin / E50\n",
      "Survived\n",
      "1    1.0\n",
      "Name: Cabin, dtype: float64\n",
      "Cabin / C82\n",
      "Survived\n",
      "0    1.0\n",
      "Name: Cabin, dtype: float64\n",
      "Cabin / B96 B98\n",
      "Survived\n",
      "1    1.0\n",
      "Name: Cabin, dtype: float64\n",
      "Cabin / E10\n",
      "Survived\n",
      "1    1.0\n",
      "Name: Cabin, dtype: float64\n",
      "Cabin / E44\n",
      "Survived\n",
      "0    0.5\n",
      "1    0.5\n",
      "Name: Cabin, dtype: float64\n",
      "Cabin / A34\n",
      "Survived\n",
      "1    1.0\n",
      "Name: Cabin, dtype: float64\n",
      "Cabin / C104\n",
      "Survived\n",
      "1    1.0\n",
      "Name: Cabin, dtype: float64\n",
      "Cabin / C111\n",
      "Survived\n",
      "0    1.0\n",
      "Name: Cabin, dtype: float64\n",
      "Cabin / C92\n",
      "Survived\n",
      "1    1.0\n",
      "Name: Cabin, dtype: float64\n",
      "Cabin / E38\n",
      "Survived\n",
      "0    1.0\n",
      "Name: Cabin, dtype: float64\n",
      "Cabin / D21\n",
      "Survived\n",
      "1    1.0\n",
      "Name: Cabin, dtype: float64\n",
      "Cabin / E12\n",
      "Survived\n",
      "1    1.0\n",
      "Name: Cabin, dtype: float64\n",
      "Cabin / E63\n",
      "Survived\n",
      "0    1.0\n",
      "Name: Cabin, dtype: float64\n",
      "Cabin / A14\n",
      "Survived\n",
      "0    1.0\n",
      "Name: Cabin, dtype: float64\n",
      "Cabin / B37\n",
      "Survived\n",
      "0    1.0\n",
      "Name: Cabin, dtype: float64\n",
      "Cabin / C30\n",
      "Survived\n",
      "0    1.0\n",
      "Name: Cabin, dtype: float64\n",
      "Cabin / D20\n",
      "Survived\n",
      "1    1.0\n",
      "Name: Cabin, dtype: float64\n",
      "Cabin / B79\n",
      "Survived\n",
      "1    1.0\n",
      "Name: Cabin, dtype: float64\n",
      "Cabin / E25\n",
      "Survived\n",
      "1    1.0\n",
      "Name: Cabin, dtype: float64\n",
      "Cabin / D46\n",
      "Survived\n",
      "0    1.0\n",
      "Name: Cabin, dtype: float64\n",
      "Cabin / B73\n",
      "Survived\n",
      "1    1.0\n",
      "Name: Cabin, dtype: float64\n",
      "Cabin / C95\n",
      "Survived\n",
      "0    1.0\n",
      "Name: Cabin, dtype: float64\n",
      "Cabin / B38\n",
      "Survived\n",
      "0    1.0\n",
      "Name: Cabin, dtype: float64\n",
      "Cabin / B39\n",
      "Survived\n",
      "1    1.0\n",
      "Name: Cabin, dtype: float64\n",
      "Cabin / B22\n",
      "Survived\n",
      "0    0.5\n",
      "1    0.5\n",
      "Name: Cabin, dtype: float64\n",
      "Cabin / C86\n",
      "Survived\n",
      "0    1.0\n",
      "Name: Cabin, dtype: float64\n",
      "Cabin / C70\n",
      "Survived\n",
      "1    1.0\n",
      "Name: Cabin, dtype: float64\n",
      "Cabin / A16\n",
      "Survived\n",
      "1    1.0\n",
      "Name: Cabin, dtype: float64\n",
      "Cabin / C101\n",
      "Survived\n",
      "1    1.0\n",
      "Name: Cabin, dtype: float64\n",
      "Cabin / C68\n",
      "Survived\n",
      "0    0.5\n",
      "1    0.5\n",
      "Name: Cabin, dtype: float64\n",
      "Cabin / A10\n",
      "Survived\n",
      "0    1.0\n",
      "Name: Cabin, dtype: float64\n",
      "Cabin / E68\n",
      "Survived\n",
      "1    1.0\n",
      "Name: Cabin, dtype: float64\n",
      "Cabin / B41\n",
      "Survived\n",
      "1    1.0\n",
      "Name: Cabin, dtype: float64\n",
      "Cabin / A20\n",
      "Survived\n",
      "1    1.0\n",
      "Name: Cabin, dtype: float64\n",
      "Cabin / D19\n",
      "Survived\n",
      "1    1.0\n",
      "Name: Cabin, dtype: float64\n",
      "Cabin / D50\n",
      "Survived\n",
      "0    1.0\n",
      "Name: Cabin, dtype: float64\n",
      "Cabin / D9\n",
      "Survived\n",
      "1    1.0\n",
      "Name: Cabin, dtype: float64\n",
      "Cabin / A23\n",
      "Survived\n",
      "1    1.0\n",
      "Name: Cabin, dtype: float64\n",
      "Cabin / B50\n",
      "Survived\n",
      "1    1.0\n",
      "Name: Cabin, dtype: float64\n",
      "Cabin / A26\n",
      "Survived\n",
      "1    1.0\n",
      "Name: Cabin, dtype: float64\n",
      "Cabin / D48\n",
      "Survived\n",
      "0    1.0\n",
      "Name: Cabin, dtype: float64\n",
      "Cabin / E58\n",
      "Survived\n",
      "0    1.0\n",
      "Name: Cabin, dtype: float64\n",
      "Cabin / C126\n",
      "Survived\n",
      "1    1.0\n",
      "Name: Cabin, dtype: float64\n",
      "Cabin / B71\n",
      "Survived\n",
      "0    1.0\n",
      "Name: Cabin, dtype: float64\n",
      "Cabin / B51 B53 B55\n",
      "Survived\n",
      "0    0.5\n",
      "1    0.5\n",
      "Name: Cabin, dtype: float64\n",
      "Cabin / D49\n",
      "Survived\n",
      "1    1.0\n",
      "Name: Cabin, dtype: float64\n",
      "Cabin / B5\n",
      "Survived\n",
      "1    1.0\n",
      "Name: Cabin, dtype: float64\n",
      "Cabin / B20\n",
      "Survived\n",
      "1    1.0\n",
      "Name: Cabin, dtype: float64\n",
      "Cabin / F G63\n",
      "Survived\n",
      "0    1.0\n",
      "Name: Cabin, dtype: float64\n",
      "Cabin / C62 C64\n",
      "Survived\n",
      "1    1.0\n",
      "Name: Cabin, dtype: float64\n",
      "Cabin / E24\n",
      "Survived\n",
      "1    1.0\n",
      "Name: Cabin, dtype: float64\n",
      "Cabin / C90\n",
      "Survived\n",
      "1    1.0\n",
      "Name: Cabin, dtype: float64\n",
      "Cabin / C45\n",
      "Survived\n",
      "1    1.0\n",
      "Name: Cabin, dtype: float64\n",
      "Cabin / E8\n",
      "Survived\n",
      "1    1.0\n",
      "Name: Cabin, dtype: float64\n",
      "Cabin / B101\n",
      "Survived\n",
      "1    1.0\n",
      "Name: Cabin, dtype: float64\n",
      "Cabin / D45\n",
      "Survived\n",
      "1    1.0\n",
      "Name: Cabin, dtype: float64\n",
      "Cabin / C46\n",
      "Survived\n",
      "0    1.0\n",
      "Name: Cabin, dtype: float64\n",
      "Cabin / D30\n",
      "Survived\n",
      "0    1.0\n",
      "Name: Cabin, dtype: float64\n",
      "Cabin / E121\n",
      "Survived\n",
      "1    1.0\n",
      "Name: Cabin, dtype: float64\n",
      "Cabin / D11\n",
      "Survived\n",
      "1    1.0\n",
      "Name: Cabin, dtype: float64\n",
      "Cabin / E77\n",
      "Survived\n",
      "0    1.0\n",
      "Name: Cabin, dtype: float64\n",
      "Cabin / F38\n",
      "Survived\n",
      "0    1.0\n"
     ]
    },
    {
     "name": "stdout",
     "output_type": "stream",
     "text": [
      "Name: Cabin, dtype: float64\n",
      "Cabin / B3\n",
      "Survived\n",
      "1    1.0\n",
      "Name: Cabin, dtype: float64\n",
      "Cabin / D6\n",
      "Survived\n",
      "0    1.0\n",
      "Name: Cabin, dtype: float64\n",
      "Cabin / B82 B84\n",
      "Survived\n",
      "0    1.0\n",
      "Name: Cabin, dtype: float64\n",
      "Cabin / D17\n",
      "Survived\n",
      "1    1.0\n",
      "Name: Cabin, dtype: float64\n",
      "Cabin / A36\n",
      "Survived\n",
      "0    1.0\n",
      "Name: Cabin, dtype: float64\n",
      "Cabin / B102\n",
      "Survived\n",
      "0    1.0\n",
      "Name: Cabin, dtype: float64\n",
      "Cabin / B69\n",
      "Survived\n",
      "1    1.0\n",
      "Name: Cabin, dtype: float64\n",
      "Cabin / E49\n",
      "Survived\n",
      "1    1.0\n",
      "Name: Cabin, dtype: float64\n",
      "Cabin / C47\n",
      "Survived\n",
      "1    1.0\n",
      "Name: Cabin, dtype: float64\n",
      "Cabin / D28\n",
      "Survived\n",
      "1    1.0\n",
      "Name: Cabin, dtype: float64\n",
      "Cabin / E17\n",
      "Survived\n",
      "1    1.0\n",
      "Name: Cabin, dtype: float64\n",
      "Cabin / A24\n",
      "Survived\n",
      "0    1.0\n",
      "Name: Cabin, dtype: float64\n",
      "Cabin / C50\n",
      "Survived\n",
      "1    1.0\n",
      "Name: Cabin, dtype: float64\n",
      "Cabin / B42\n",
      "Survived\n",
      "1    1.0\n",
      "Name: Cabin, dtype: float64\n",
      "Cabin / C148\n",
      "Survived\n",
      "1    1.0\n",
      "Name: Cabin, dtype: float64\n",
      "Embarked / S\n",
      "Survived\n",
      "0    0.660991\n",
      "1    0.339009\n",
      "Name: Embarked, dtype: float64\n",
      "Embarked / C\n",
      "Survived\n",
      "0    0.446429\n",
      "1    0.553571\n",
      "Name: Embarked, dtype: float64\n",
      "Embarked / Q\n",
      "Survived\n",
      "0    0.61039\n",
      "1    0.38961\n",
      "Name: Embarked, dtype: float64\n"
     ]
    }
   ],
   "source": [
    "import matplotlib.pyplot as plt\n",
    "#plot % survived for each variable\n",
    "\n",
    "cat_cols = ['Pclass','Sex','SibSp','Parch','Cabin','Embarked']\n",
    "\n",
    "\n",
    "#fig, axs = plt.subplots(len(cat_cols), 3, sharex=True, sharey=True)\n",
    "\n",
    "for col in cat_cols:\n",
    "    for group in init_train[col].unique():\n",
    "        tgt = init_train[init_train[col]==group]\n",
    "        print(col,'/',group)\n",
    "        print(init_train[init_train[col]==group].groupby('Survived').count()[col]/len(init_train[init_train[col]==group]))"
   ]
  },
  {
   "cell_type": "code",
   "execution_count": 155,
   "metadata": {},
   "outputs": [],
   "source": [
    "#validation set\n",
    "X, X_test, y, y_test = train_test_split(X, y, random_state=42)\n",
    "\n",
    "#scale data\n",
    "scaler = preprocessing.StandardScaler().fit(X)\n",
    "X_scaled = scaler.transform(X)\n",
    "X_test_scaled = scaler.transform(X_test)"
   ]
  },
  {
   "cell_type": "code",
   "execution_count": 156,
   "metadata": {},
   "outputs": [
    {
     "name": "stderr",
     "output_type": "stream",
     "text": [
      "/Users/gregscanlon/opt/anaconda3/lib/python3.7/site-packages/sklearn/linear_model/logistic.py:432: FutureWarning: Default solver will be changed to 'lbfgs' in 0.22. Specify a solver to silence this warning.\n",
      "  FutureWarning)\n"
     ]
    },
    {
     "ename": "ValueError",
     "evalue": "Input contains NaN, infinity or a value too large for dtype('float64').",
     "output_type": "error",
     "traceback": [
      "\u001b[0;31m---------------------------------------------------------------------------\u001b[0m",
      "\u001b[0;31mValueError\u001b[0m                                Traceback (most recent call last)",
      "\u001b[0;32m<ipython-input-156-64ea808853ab>\u001b[0m in \u001b[0;36m<module>\u001b[0;34m\u001b[0m\n\u001b[1;32m      1\u001b[0m \u001b[0;31m#logistic regression\u001b[0m\u001b[0;34m\u001b[0m\u001b[0;34m\u001b[0m\u001b[0;34m\u001b[0m\u001b[0m\n\u001b[0;32m----> 2\u001b[0;31m \u001b[0mclf\u001b[0m \u001b[0;34m=\u001b[0m \u001b[0mLogisticRegression\u001b[0m\u001b[0;34m(\u001b[0m\u001b[0mrandom_state\u001b[0m\u001b[0;34m=\u001b[0m\u001b[0;36m0\u001b[0m\u001b[0;34m)\u001b[0m\u001b[0;34m.\u001b[0m\u001b[0mfit\u001b[0m\u001b[0;34m(\u001b[0m\u001b[0mX\u001b[0m\u001b[0;34m,\u001b[0m \u001b[0my\u001b[0m\u001b[0;34m)\u001b[0m\u001b[0;34m\u001b[0m\u001b[0;34m\u001b[0m\u001b[0m\n\u001b[0m\u001b[1;32m      3\u001b[0m \u001b[0;34m\u001b[0m\u001b[0m\n\u001b[1;32m      4\u001b[0m \u001b[0mprint\u001b[0m\u001b[0;34m(\u001b[0m\u001b[0;34m'train score: '\u001b[0m\u001b[0;34m,\u001b[0m\u001b[0mclf\u001b[0m\u001b[0;34m.\u001b[0m\u001b[0mscore\u001b[0m\u001b[0;34m(\u001b[0m\u001b[0mX\u001b[0m\u001b[0;34m,\u001b[0m \u001b[0my\u001b[0m\u001b[0;34m)\u001b[0m\u001b[0;34m)\u001b[0m\u001b[0;34m\u001b[0m\u001b[0;34m\u001b[0m\u001b[0m\n\u001b[1;32m      5\u001b[0m \u001b[0;34m\u001b[0m\u001b[0m\n",
      "\u001b[0;32m~/opt/anaconda3/lib/python3.7/site-packages/sklearn/linear_model/logistic.py\u001b[0m in \u001b[0;36mfit\u001b[0;34m(self, X, y, sample_weight)\u001b[0m\n\u001b[1;32m   1530\u001b[0m \u001b[0;34m\u001b[0m\u001b[0m\n\u001b[1;32m   1531\u001b[0m         X, y = check_X_y(X, y, accept_sparse='csr', dtype=_dtype, order=\"C\",\n\u001b[0;32m-> 1532\u001b[0;31m                          accept_large_sparse=solver != 'liblinear')\n\u001b[0m\u001b[1;32m   1533\u001b[0m         \u001b[0mcheck_classification_targets\u001b[0m\u001b[0;34m(\u001b[0m\u001b[0my\u001b[0m\u001b[0;34m)\u001b[0m\u001b[0;34m\u001b[0m\u001b[0;34m\u001b[0m\u001b[0m\n\u001b[1;32m   1534\u001b[0m         \u001b[0mself\u001b[0m\u001b[0;34m.\u001b[0m\u001b[0mclasses_\u001b[0m \u001b[0;34m=\u001b[0m \u001b[0mnp\u001b[0m\u001b[0;34m.\u001b[0m\u001b[0munique\u001b[0m\u001b[0;34m(\u001b[0m\u001b[0my\u001b[0m\u001b[0;34m)\u001b[0m\u001b[0;34m\u001b[0m\u001b[0;34m\u001b[0m\u001b[0m\n",
      "\u001b[0;32m~/opt/anaconda3/lib/python3.7/site-packages/sklearn/utils/validation.py\u001b[0m in \u001b[0;36mcheck_X_y\u001b[0;34m(X, y, accept_sparse, accept_large_sparse, dtype, order, copy, force_all_finite, ensure_2d, allow_nd, multi_output, ensure_min_samples, ensure_min_features, y_numeric, warn_on_dtype, estimator)\u001b[0m\n\u001b[1;32m    717\u001b[0m                     \u001b[0mensure_min_features\u001b[0m\u001b[0;34m=\u001b[0m\u001b[0mensure_min_features\u001b[0m\u001b[0;34m,\u001b[0m\u001b[0;34m\u001b[0m\u001b[0;34m\u001b[0m\u001b[0m\n\u001b[1;32m    718\u001b[0m                     \u001b[0mwarn_on_dtype\u001b[0m\u001b[0;34m=\u001b[0m\u001b[0mwarn_on_dtype\u001b[0m\u001b[0;34m,\u001b[0m\u001b[0;34m\u001b[0m\u001b[0;34m\u001b[0m\u001b[0m\n\u001b[0;32m--> 719\u001b[0;31m                     estimator=estimator)\n\u001b[0m\u001b[1;32m    720\u001b[0m     \u001b[0;32mif\u001b[0m \u001b[0mmulti_output\u001b[0m\u001b[0;34m:\u001b[0m\u001b[0;34m\u001b[0m\u001b[0;34m\u001b[0m\u001b[0m\n\u001b[1;32m    721\u001b[0m         y = check_array(y, 'csr', force_all_finite=True, ensure_2d=False,\n",
      "\u001b[0;32m~/opt/anaconda3/lib/python3.7/site-packages/sklearn/utils/validation.py\u001b[0m in \u001b[0;36mcheck_array\u001b[0;34m(array, accept_sparse, accept_large_sparse, dtype, order, copy, force_all_finite, ensure_2d, allow_nd, ensure_min_samples, ensure_min_features, warn_on_dtype, estimator)\u001b[0m\n\u001b[1;32m    540\u001b[0m         \u001b[0;32mif\u001b[0m \u001b[0mforce_all_finite\u001b[0m\u001b[0;34m:\u001b[0m\u001b[0;34m\u001b[0m\u001b[0;34m\u001b[0m\u001b[0m\n\u001b[1;32m    541\u001b[0m             _assert_all_finite(array,\n\u001b[0;32m--> 542\u001b[0;31m                                allow_nan=force_all_finite == 'allow-nan')\n\u001b[0m\u001b[1;32m    543\u001b[0m \u001b[0;34m\u001b[0m\u001b[0m\n\u001b[1;32m    544\u001b[0m     \u001b[0;32mif\u001b[0m \u001b[0mensure_min_samples\u001b[0m \u001b[0;34m>\u001b[0m \u001b[0;36m0\u001b[0m\u001b[0;34m:\u001b[0m\u001b[0;34m\u001b[0m\u001b[0;34m\u001b[0m\u001b[0m\n",
      "\u001b[0;32m~/opt/anaconda3/lib/python3.7/site-packages/sklearn/utils/validation.py\u001b[0m in \u001b[0;36m_assert_all_finite\u001b[0;34m(X, allow_nan)\u001b[0m\n\u001b[1;32m     54\u001b[0m                 not allow_nan and not np.isfinite(X).all()):\n\u001b[1;32m     55\u001b[0m             \u001b[0mtype_err\u001b[0m \u001b[0;34m=\u001b[0m \u001b[0;34m'infinity'\u001b[0m \u001b[0;32mif\u001b[0m \u001b[0mallow_nan\u001b[0m \u001b[0;32melse\u001b[0m \u001b[0;34m'NaN, infinity'\u001b[0m\u001b[0;34m\u001b[0m\u001b[0;34m\u001b[0m\u001b[0m\n\u001b[0;32m---> 56\u001b[0;31m             \u001b[0;32mraise\u001b[0m \u001b[0mValueError\u001b[0m\u001b[0;34m(\u001b[0m\u001b[0mmsg_err\u001b[0m\u001b[0;34m.\u001b[0m\u001b[0mformat\u001b[0m\u001b[0;34m(\u001b[0m\u001b[0mtype_err\u001b[0m\u001b[0;34m,\u001b[0m \u001b[0mX\u001b[0m\u001b[0;34m.\u001b[0m\u001b[0mdtype\u001b[0m\u001b[0;34m)\u001b[0m\u001b[0;34m)\u001b[0m\u001b[0;34m\u001b[0m\u001b[0;34m\u001b[0m\u001b[0m\n\u001b[0m\u001b[1;32m     57\u001b[0m     \u001b[0;31m# for object dtype data, we only check for NaNs (GH-13254)\u001b[0m\u001b[0;34m\u001b[0m\u001b[0;34m\u001b[0m\u001b[0;34m\u001b[0m\u001b[0m\n\u001b[1;32m     58\u001b[0m     \u001b[0;32melif\u001b[0m \u001b[0mX\u001b[0m\u001b[0;34m.\u001b[0m\u001b[0mdtype\u001b[0m \u001b[0;34m==\u001b[0m \u001b[0mnp\u001b[0m\u001b[0;34m.\u001b[0m\u001b[0mdtype\u001b[0m\u001b[0;34m(\u001b[0m\u001b[0;34m'object'\u001b[0m\u001b[0;34m)\u001b[0m \u001b[0;32mand\u001b[0m \u001b[0;32mnot\u001b[0m \u001b[0mallow_nan\u001b[0m\u001b[0;34m:\u001b[0m\u001b[0;34m\u001b[0m\u001b[0;34m\u001b[0m\u001b[0m\n",
      "\u001b[0;31mValueError\u001b[0m: Input contains NaN, infinity or a value too large for dtype('float64')."
     ]
    }
   ],
   "source": [
    "#logistic regression\n",
    "clf = LogisticRegression(random_state=0).fit(X, y)\n",
    "\n",
    "print('train score: ',clf.score(X, y))\n",
    "\n",
    "print('test score: ',clf.score(X_test, y_test))"
   ]
  },
  {
   "cell_type": "code",
   "execution_count": null,
   "metadata": {},
   "outputs": [],
   "source": []
  }
 ],
 "metadata": {
  "kernelspec": {
   "display_name": "Python 3",
   "language": "python",
   "name": "python3"
  },
  "language_info": {
   "codemirror_mode": {
    "name": "ipython",
    "version": 3
   },
   "file_extension": ".py",
   "mimetype": "text/x-python",
   "name": "python",
   "nbconvert_exporter": "python",
   "pygments_lexer": "ipython3",
   "version": "3.7.4"
  }
 },
 "nbformat": 4,
 "nbformat_minor": 2
}
